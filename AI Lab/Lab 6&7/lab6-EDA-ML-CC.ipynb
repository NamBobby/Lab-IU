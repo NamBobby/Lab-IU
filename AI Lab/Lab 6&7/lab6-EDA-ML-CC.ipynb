{
  "nbformat": 4,
  "nbformat_minor": 0,
  "metadata": {
    "kernelspec": {
      "display_name": "Python 3",
      "language": "python",
      "name": "python3"
    },
    "language_info": {
      "name": "python",
      "version": "3.6.6",
      "mimetype": "text/x-python",
      "codemirror_mode": {
        "name": "ipython",
        "version": 3
      },
      "pygments_lexer": "ipython3",
      "nbconvert_exporter": "python",
      "file_extension": ".py"
    },
    "colab": {
      "name": "lab6-EDA-ML-CC1.ipynb",
      "provenance": [],
      "collapsed_sections": []
    }
  },
  "cells": [
    {
      "cell_type": "markdown",
      "metadata": {
        "_uuid": "191a5d924005ae1c473b66d288ac15d527b51f0b",
        "id": "xGRqOOpyxNjW"
      },
      "source": [
        "**Task 1**: You are required do a proper analysis of the whole data, plot all relevant plots, make note to all observations\n",
        "\n",
        "**Task 2**: Let sample 100 transactions (denoted by S) from whole data (denoted by D), for every transaction in S, print 10 transactions from D which have least values of `similarity`\n",
        "\n",
        "The similarity between any two vectors is defined as\n",
        "$\\text{similarity}(v_i,v_j) = \\text{cos}^{-1} [ \\frac{(v_i \\cdot v_j)}{length(v_i) \\times length(v_j)} ]$\n",
        "\n",
        "1. $v_i$ represents a vector i.e. a row in your data.\n",
        "2. $\\text{similarity}(i,j)$ is just a function you can think it like $f(x,y)$\n",
        "3. $\\text{length}(v_i)$: length of the vector $v_i$\n",
        "4. $i \\cdot j$ is the dot product between the vectors $v_i$, $v_j$ \n",
        "\n",
        "**Task 3**: Apply 5 different ML algorithms to build classification models.\n",
        "\n",
        "\n",
        "\n"
      ]
    },
    {
      "cell_type": "markdown",
      "metadata": {
        "_uuid": "083341665439f5056f98f56404e72e0338fb39e0",
        "id": "_KO4JDQAxNjd"
      },
      "source": [
        "## Task 1 : Performing EDA(Exploratory Data Analysis on credit card data)"
      ]
    },
    {
      "cell_type": "markdown",
      "metadata": {
        "_uuid": "bd6649789ba0dfd5e0537536fa71be83441f3181",
        "id": "e6K_EOeKxNje"
      },
      "source": [
        "### About the data:\n",
        "\n",
        "Features V1, V2, ... V28 are the principal components obtained with PCA, the only features which have not been transformed with PCA are 'Time' and 'Amount'. \n",
        "\n",
        "**Feature 'Time'** contains the seconds elapsed between each transaction and the first transaction in the dataset. \n",
        "\n",
        "The **Feature 'Amount'** is the transaction Amount, this feature can be used for example-dependant cost-senstive learning. \n",
        "\n",
        "**Feature 'Class'** is the response variable and it takes value 1 in case of fraud and 0 otherwise."
      ]
    },
    {
      "cell_type": "markdown",
      "metadata": {
        "_uuid": "34c5226130af1ac6ca724a2499fde205013a4134",
        "id": "gec7VRa5xNje"
      },
      "source": [
        "\n",
        "\n",
        "EDA is performed only on Time and Amount Feature."
      ]
    },
    {
      "cell_type": "markdown",
      "metadata": {
        "id": "PpSF2yiOzsLP"
      },
      "source": [
        "#### Find and load the dataset from github"
      ]
    },
    {
      "cell_type": "markdown",
      "metadata": {
        "id": "h5bQuGWFOEU1"
      },
      "source": [
        "Lê Thanh Phương Nam ITITUN19008"
      ]
    },
    {
      "cell_type": "code",
      "metadata": {
        "collapsed": true,
        "trusted": true,
        "_uuid": "f4eda6414559b59c7b4a4f7ec79f18d862c52973",
        "id": "DkBuS71axNjf"
      },
      "source": [
        "#importing pandas module\n",
        "import pandas as pd"
      ],
      "execution_count": 1,
      "outputs": []
    },
    {
      "cell_type": "code",
      "metadata": {
        "trusted": true,
        "_uuid": "63beb2077c1fc64e70e65bd1ceb0cc458aec1176",
        "collapsed": true,
        "id": "9_33lyRXxNjf"
      },
      "source": [
        "credit_card_data = pd.read_csv(\"https://raw.githubusercontent.com/nsethi31/Kaggle-Data-Credit-Card-Fraud-Detection/master/creditcard.csv\")"
      ],
      "execution_count": 2,
      "outputs": []
    },
    {
      "cell_type": "code",
      "metadata": {
        "trusted": true,
        "_uuid": "12fc27e67b1d995c7c4962265cf07141e779279a",
        "collapsed": true,
        "colab": {
          "base_uri": "https://localhost:8080/",
          "height": 217
        },
        "id": "4vv3nGoIxNjg",
        "outputId": "bca007ed-48bc-47ab-be3b-b530368ab329"
      },
      "source": [
        "credit_card_data.head()"
      ],
      "execution_count": 3,
      "outputs": [
        {
          "output_type": "execute_result",
          "data": {
            "text/html": [
              "<div>\n",
              "<style scoped>\n",
              "    .dataframe tbody tr th:only-of-type {\n",
              "        vertical-align: middle;\n",
              "    }\n",
              "\n",
              "    .dataframe tbody tr th {\n",
              "        vertical-align: top;\n",
              "    }\n",
              "\n",
              "    .dataframe thead th {\n",
              "        text-align: right;\n",
              "    }\n",
              "</style>\n",
              "<table border=\"1\" class=\"dataframe\">\n",
              "  <thead>\n",
              "    <tr style=\"text-align: right;\">\n",
              "      <th></th>\n",
              "      <th>Time</th>\n",
              "      <th>V1</th>\n",
              "      <th>V2</th>\n",
              "      <th>V3</th>\n",
              "      <th>V4</th>\n",
              "      <th>V5</th>\n",
              "      <th>V6</th>\n",
              "      <th>V7</th>\n",
              "      <th>V8</th>\n",
              "      <th>V9</th>\n",
              "      <th>V10</th>\n",
              "      <th>V11</th>\n",
              "      <th>V12</th>\n",
              "      <th>V13</th>\n",
              "      <th>V14</th>\n",
              "      <th>V15</th>\n",
              "      <th>V16</th>\n",
              "      <th>V17</th>\n",
              "      <th>V18</th>\n",
              "      <th>V19</th>\n",
              "      <th>V20</th>\n",
              "      <th>V21</th>\n",
              "      <th>V22</th>\n",
              "      <th>V23</th>\n",
              "      <th>V24</th>\n",
              "      <th>V25</th>\n",
              "      <th>V26</th>\n",
              "      <th>V27</th>\n",
              "      <th>V28</th>\n",
              "      <th>Amount</th>\n",
              "      <th>Class</th>\n",
              "    </tr>\n",
              "  </thead>\n",
              "  <tbody>\n",
              "    <tr>\n",
              "      <th>0</th>\n",
              "      <td>0.0</td>\n",
              "      <td>-1.359807</td>\n",
              "      <td>-0.072781</td>\n",
              "      <td>2.536347</td>\n",
              "      <td>1.378155</td>\n",
              "      <td>-0.338321</td>\n",
              "      <td>0.462388</td>\n",
              "      <td>0.239599</td>\n",
              "      <td>0.098698</td>\n",
              "      <td>0.363787</td>\n",
              "      <td>0.090794</td>\n",
              "      <td>-0.551600</td>\n",
              "      <td>-0.617801</td>\n",
              "      <td>-0.991390</td>\n",
              "      <td>-0.311169</td>\n",
              "      <td>1.468177</td>\n",
              "      <td>-0.470401</td>\n",
              "      <td>0.207971</td>\n",
              "      <td>0.025791</td>\n",
              "      <td>0.403993</td>\n",
              "      <td>0.251412</td>\n",
              "      <td>-0.018307</td>\n",
              "      <td>0.277838</td>\n",
              "      <td>-0.110474</td>\n",
              "      <td>0.066928</td>\n",
              "      <td>0.128539</td>\n",
              "      <td>-0.189115</td>\n",
              "      <td>0.133558</td>\n",
              "      <td>-0.021053</td>\n",
              "      <td>149.62</td>\n",
              "      <td>0</td>\n",
              "    </tr>\n",
              "    <tr>\n",
              "      <th>1</th>\n",
              "      <td>0.0</td>\n",
              "      <td>1.191857</td>\n",
              "      <td>0.266151</td>\n",
              "      <td>0.166480</td>\n",
              "      <td>0.448154</td>\n",
              "      <td>0.060018</td>\n",
              "      <td>-0.082361</td>\n",
              "      <td>-0.078803</td>\n",
              "      <td>0.085102</td>\n",
              "      <td>-0.255425</td>\n",
              "      <td>-0.166974</td>\n",
              "      <td>1.612727</td>\n",
              "      <td>1.065235</td>\n",
              "      <td>0.489095</td>\n",
              "      <td>-0.143772</td>\n",
              "      <td>0.635558</td>\n",
              "      <td>0.463917</td>\n",
              "      <td>-0.114805</td>\n",
              "      <td>-0.183361</td>\n",
              "      <td>-0.145783</td>\n",
              "      <td>-0.069083</td>\n",
              "      <td>-0.225775</td>\n",
              "      <td>-0.638672</td>\n",
              "      <td>0.101288</td>\n",
              "      <td>-0.339846</td>\n",
              "      <td>0.167170</td>\n",
              "      <td>0.125895</td>\n",
              "      <td>-0.008983</td>\n",
              "      <td>0.014724</td>\n",
              "      <td>2.69</td>\n",
              "      <td>0</td>\n",
              "    </tr>\n",
              "    <tr>\n",
              "      <th>2</th>\n",
              "      <td>1.0</td>\n",
              "      <td>-1.358354</td>\n",
              "      <td>-1.340163</td>\n",
              "      <td>1.773209</td>\n",
              "      <td>0.379780</td>\n",
              "      <td>-0.503198</td>\n",
              "      <td>1.800499</td>\n",
              "      <td>0.791461</td>\n",
              "      <td>0.247676</td>\n",
              "      <td>-1.514654</td>\n",
              "      <td>0.207643</td>\n",
              "      <td>0.624501</td>\n",
              "      <td>0.066084</td>\n",
              "      <td>0.717293</td>\n",
              "      <td>-0.165946</td>\n",
              "      <td>2.345865</td>\n",
              "      <td>-2.890083</td>\n",
              "      <td>1.109969</td>\n",
              "      <td>-0.121359</td>\n",
              "      <td>-2.261857</td>\n",
              "      <td>0.524980</td>\n",
              "      <td>0.247998</td>\n",
              "      <td>0.771679</td>\n",
              "      <td>0.909412</td>\n",
              "      <td>-0.689281</td>\n",
              "      <td>-0.327642</td>\n",
              "      <td>-0.139097</td>\n",
              "      <td>-0.055353</td>\n",
              "      <td>-0.059752</td>\n",
              "      <td>378.66</td>\n",
              "      <td>0</td>\n",
              "    </tr>\n",
              "    <tr>\n",
              "      <th>3</th>\n",
              "      <td>1.0</td>\n",
              "      <td>-0.966272</td>\n",
              "      <td>-0.185226</td>\n",
              "      <td>1.792993</td>\n",
              "      <td>-0.863291</td>\n",
              "      <td>-0.010309</td>\n",
              "      <td>1.247203</td>\n",
              "      <td>0.237609</td>\n",
              "      <td>0.377436</td>\n",
              "      <td>-1.387024</td>\n",
              "      <td>-0.054952</td>\n",
              "      <td>-0.226487</td>\n",
              "      <td>0.178228</td>\n",
              "      <td>0.507757</td>\n",
              "      <td>-0.287924</td>\n",
              "      <td>-0.631418</td>\n",
              "      <td>-1.059647</td>\n",
              "      <td>-0.684093</td>\n",
              "      <td>1.965775</td>\n",
              "      <td>-1.232622</td>\n",
              "      <td>-0.208038</td>\n",
              "      <td>-0.108300</td>\n",
              "      <td>0.005274</td>\n",
              "      <td>-0.190321</td>\n",
              "      <td>-1.175575</td>\n",
              "      <td>0.647376</td>\n",
              "      <td>-0.221929</td>\n",
              "      <td>0.062723</td>\n",
              "      <td>0.061458</td>\n",
              "      <td>123.50</td>\n",
              "      <td>0</td>\n",
              "    </tr>\n",
              "    <tr>\n",
              "      <th>4</th>\n",
              "      <td>2.0</td>\n",
              "      <td>-1.158233</td>\n",
              "      <td>0.877737</td>\n",
              "      <td>1.548718</td>\n",
              "      <td>0.403034</td>\n",
              "      <td>-0.407193</td>\n",
              "      <td>0.095921</td>\n",
              "      <td>0.592941</td>\n",
              "      <td>-0.270533</td>\n",
              "      <td>0.817739</td>\n",
              "      <td>0.753074</td>\n",
              "      <td>-0.822843</td>\n",
              "      <td>0.538196</td>\n",
              "      <td>1.345852</td>\n",
              "      <td>-1.119670</td>\n",
              "      <td>0.175121</td>\n",
              "      <td>-0.451449</td>\n",
              "      <td>-0.237033</td>\n",
              "      <td>-0.038195</td>\n",
              "      <td>0.803487</td>\n",
              "      <td>0.408542</td>\n",
              "      <td>-0.009431</td>\n",
              "      <td>0.798278</td>\n",
              "      <td>-0.137458</td>\n",
              "      <td>0.141267</td>\n",
              "      <td>-0.206010</td>\n",
              "      <td>0.502292</td>\n",
              "      <td>0.219422</td>\n",
              "      <td>0.215153</td>\n",
              "      <td>69.99</td>\n",
              "      <td>0</td>\n",
              "    </tr>\n",
              "  </tbody>\n",
              "</table>\n",
              "</div>"
            ],
            "text/plain": [
              "   Time        V1        V2        V3  ...       V27       V28  Amount  Class\n",
              "0   0.0 -1.359807 -0.072781  2.536347  ...  0.133558 -0.021053  149.62      0\n",
              "1   0.0  1.191857  0.266151  0.166480  ... -0.008983  0.014724    2.69      0\n",
              "2   1.0 -1.358354 -1.340163  1.773209  ... -0.055353 -0.059752  378.66      0\n",
              "3   1.0 -0.966272 -0.185226  1.792993  ...  0.062723  0.061458  123.50      0\n",
              "4   2.0 -1.158233  0.877737  1.548718  ...  0.219422  0.215153   69.99      0\n",
              "\n",
              "[5 rows x 31 columns]"
            ]
          },
          "metadata": {
            "tags": []
          },
          "execution_count": 3
        }
      ]
    },
    {
      "cell_type": "markdown",
      "metadata": {
        "id": "h38rXUq6z11G"
      },
      "source": [
        "#### Print out dataframe information, shape, and count the values of `Class` to check if the data is imbalanced"
      ]
    },
    {
      "cell_type": "code",
      "metadata": {
        "colab": {
          "base_uri": "https://localhost:8080/"
        },
        "id": "3i0NXfvT0DVP",
        "outputId": "5a3f7bc9-eb33-49f7-92d6-cd5c4a291cd5"
      },
      "source": [
        "credit_card_data.info"
      ],
      "execution_count": 4,
      "outputs": [
        {
          "output_type": "execute_result",
          "data": {
            "text/plain": [
              "<bound method DataFrame.info of             Time         V1         V2  ...       V28  Amount  Class\n",
              "0            0.0  -1.359807  -0.072781  ... -0.021053  149.62      0\n",
              "1            0.0   1.191857   0.266151  ...  0.014724    2.69      0\n",
              "2            1.0  -1.358354  -1.340163  ... -0.059752  378.66      0\n",
              "3            1.0  -0.966272  -0.185226  ...  0.061458  123.50      0\n",
              "4            2.0  -1.158233   0.877737  ...  0.215153   69.99      0\n",
              "...          ...        ...        ...  ...       ...     ...    ...\n",
              "284802  172786.0 -11.881118  10.071785  ...  0.823731    0.77      0\n",
              "284803  172787.0  -0.732789  -0.055080  ... -0.053527   24.79      0\n",
              "284804  172788.0   1.919565  -0.301254  ... -0.026561   67.88      0\n",
              "284805  172788.0  -0.240440   0.530483  ...  0.104533   10.00      0\n",
              "284806  172792.0  -0.533413  -0.189733  ...  0.013649  217.00      0\n",
              "\n",
              "[284807 rows x 31 columns]>"
            ]
          },
          "metadata": {
            "tags": []
          },
          "execution_count": 4
        }
      ]
    },
    {
      "cell_type": "code",
      "metadata": {
        "trusted": true,
        "_uuid": "765b07aa59966a281540db00437ad011f764c09c",
        "collapsed": true,
        "colab": {
          "base_uri": "https://localhost:8080/"
        },
        "id": "lFPYtqP6xNjg",
        "outputId": "dabb650e-e119-41ed-cebb-ee38cf0b2dc5"
      },
      "source": [
        "#finding the shape of dataframe (finding no.of observations and features in the given dataframe)\n",
        "credit_card_data.shape"
      ],
      "execution_count": 5,
      "outputs": [
        {
          "output_type": "execute_result",
          "data": {
            "text/plain": [
              "(284807, 31)"
            ]
          },
          "metadata": {
            "tags": []
          },
          "execution_count": 5
        }
      ]
    },
    {
      "cell_type": "code",
      "metadata": {
        "trusted": true,
        "_uuid": "d1f7d2346aad741258a1556b749a14385b5e25bd",
        "collapsed": true,
        "colab": {
          "base_uri": "https://localhost:8080/"
        },
        "id": "VSfe7T4NxNjg",
        "outputId": "800df16a-0602-43a1-9d7a-a28855e7f13f"
      },
      "source": [
        "#finding whether it is balanced data or imbalanced data\n",
        "credit_card_data['Class'].value_counts()"
      ],
      "execution_count": 6,
      "outputs": [
        {
          "output_type": "execute_result",
          "data": {
            "text/plain": [
              "0    284315\n",
              "1       492\n",
              "Name: Class, dtype: int64"
            ]
          },
          "metadata": {
            "tags": []
          },
          "execution_count": 6
        }
      ]
    },
    {
      "cell_type": "markdown",
      "metadata": {
        "_uuid": "7515decc90d33a42bdb0cc1e4a370b6b6b83249e",
        "id": "slQFYYiUxNjh"
      },
      "source": [
        "From the above info it is clear that it is an imbalanced dataset"
      ]
    },
    {
      "cell_type": "markdown",
      "metadata": {
        "_uuid": "0ce390e6992fc0ea9c4673e5054126d7e09faa9c",
        "id": "-tcyv6CpxNjh"
      },
      "source": [
        "#### Let rename the class variables \n",
        "\n",
        "0 - legitimate\n",
        "\n",
        "1- fraud"
      ]
    },
    {
      "cell_type": "code",
      "metadata": {
        "collapsed": true,
        "trusted": true,
        "_uuid": "cb39dd80c1e0be4ce793ad762cdd4ccd5fffae0a",
        "id": "V_h78LolxNjh"
      },
      "source": [
        "credit_card_data['Class'] = credit_card_data['Class'].apply(lambda x:'legitimate' if x == 0 else 'fraud')"
      ],
      "execution_count": 37,
      "outputs": []
    },
    {
      "cell_type": "code",
      "metadata": {
        "trusted": true,
        "_uuid": "442e19ceacc6a3aa8f33ea0b0af4d3d85e0843fe",
        "collapsed": true,
        "colab": {
          "base_uri": "https://localhost:8080/",
          "height": 217
        },
        "id": "h0lxDf9VxNjh",
        "outputId": "6ffed736-4307-4860-f634-d00e7bc6693a"
      },
      "source": [
        "credit_card_data.head()"
      ],
      "execution_count": 8,
      "outputs": [
        {
          "output_type": "execute_result",
          "data": {
            "text/html": [
              "<div>\n",
              "<style scoped>\n",
              "    .dataframe tbody tr th:only-of-type {\n",
              "        vertical-align: middle;\n",
              "    }\n",
              "\n",
              "    .dataframe tbody tr th {\n",
              "        vertical-align: top;\n",
              "    }\n",
              "\n",
              "    .dataframe thead th {\n",
              "        text-align: right;\n",
              "    }\n",
              "</style>\n",
              "<table border=\"1\" class=\"dataframe\">\n",
              "  <thead>\n",
              "    <tr style=\"text-align: right;\">\n",
              "      <th></th>\n",
              "      <th>Time</th>\n",
              "      <th>V1</th>\n",
              "      <th>V2</th>\n",
              "      <th>V3</th>\n",
              "      <th>V4</th>\n",
              "      <th>V5</th>\n",
              "      <th>V6</th>\n",
              "      <th>V7</th>\n",
              "      <th>V8</th>\n",
              "      <th>V9</th>\n",
              "      <th>V10</th>\n",
              "      <th>V11</th>\n",
              "      <th>V12</th>\n",
              "      <th>V13</th>\n",
              "      <th>V14</th>\n",
              "      <th>V15</th>\n",
              "      <th>V16</th>\n",
              "      <th>V17</th>\n",
              "      <th>V18</th>\n",
              "      <th>V19</th>\n",
              "      <th>V20</th>\n",
              "      <th>V21</th>\n",
              "      <th>V22</th>\n",
              "      <th>V23</th>\n",
              "      <th>V24</th>\n",
              "      <th>V25</th>\n",
              "      <th>V26</th>\n",
              "      <th>V27</th>\n",
              "      <th>V28</th>\n",
              "      <th>Amount</th>\n",
              "      <th>Class</th>\n",
              "    </tr>\n",
              "  </thead>\n",
              "  <tbody>\n",
              "    <tr>\n",
              "      <th>0</th>\n",
              "      <td>0.0</td>\n",
              "      <td>-1.359807</td>\n",
              "      <td>-0.072781</td>\n",
              "      <td>2.536347</td>\n",
              "      <td>1.378155</td>\n",
              "      <td>-0.338321</td>\n",
              "      <td>0.462388</td>\n",
              "      <td>0.239599</td>\n",
              "      <td>0.098698</td>\n",
              "      <td>0.363787</td>\n",
              "      <td>0.090794</td>\n",
              "      <td>-0.551600</td>\n",
              "      <td>-0.617801</td>\n",
              "      <td>-0.991390</td>\n",
              "      <td>-0.311169</td>\n",
              "      <td>1.468177</td>\n",
              "      <td>-0.470401</td>\n",
              "      <td>0.207971</td>\n",
              "      <td>0.025791</td>\n",
              "      <td>0.403993</td>\n",
              "      <td>0.251412</td>\n",
              "      <td>-0.018307</td>\n",
              "      <td>0.277838</td>\n",
              "      <td>-0.110474</td>\n",
              "      <td>0.066928</td>\n",
              "      <td>0.128539</td>\n",
              "      <td>-0.189115</td>\n",
              "      <td>0.133558</td>\n",
              "      <td>-0.021053</td>\n",
              "      <td>149.62</td>\n",
              "      <td>legitimate</td>\n",
              "    </tr>\n",
              "    <tr>\n",
              "      <th>1</th>\n",
              "      <td>0.0</td>\n",
              "      <td>1.191857</td>\n",
              "      <td>0.266151</td>\n",
              "      <td>0.166480</td>\n",
              "      <td>0.448154</td>\n",
              "      <td>0.060018</td>\n",
              "      <td>-0.082361</td>\n",
              "      <td>-0.078803</td>\n",
              "      <td>0.085102</td>\n",
              "      <td>-0.255425</td>\n",
              "      <td>-0.166974</td>\n",
              "      <td>1.612727</td>\n",
              "      <td>1.065235</td>\n",
              "      <td>0.489095</td>\n",
              "      <td>-0.143772</td>\n",
              "      <td>0.635558</td>\n",
              "      <td>0.463917</td>\n",
              "      <td>-0.114805</td>\n",
              "      <td>-0.183361</td>\n",
              "      <td>-0.145783</td>\n",
              "      <td>-0.069083</td>\n",
              "      <td>-0.225775</td>\n",
              "      <td>-0.638672</td>\n",
              "      <td>0.101288</td>\n",
              "      <td>-0.339846</td>\n",
              "      <td>0.167170</td>\n",
              "      <td>0.125895</td>\n",
              "      <td>-0.008983</td>\n",
              "      <td>0.014724</td>\n",
              "      <td>2.69</td>\n",
              "      <td>legitimate</td>\n",
              "    </tr>\n",
              "    <tr>\n",
              "      <th>2</th>\n",
              "      <td>1.0</td>\n",
              "      <td>-1.358354</td>\n",
              "      <td>-1.340163</td>\n",
              "      <td>1.773209</td>\n",
              "      <td>0.379780</td>\n",
              "      <td>-0.503198</td>\n",
              "      <td>1.800499</td>\n",
              "      <td>0.791461</td>\n",
              "      <td>0.247676</td>\n",
              "      <td>-1.514654</td>\n",
              "      <td>0.207643</td>\n",
              "      <td>0.624501</td>\n",
              "      <td>0.066084</td>\n",
              "      <td>0.717293</td>\n",
              "      <td>-0.165946</td>\n",
              "      <td>2.345865</td>\n",
              "      <td>-2.890083</td>\n",
              "      <td>1.109969</td>\n",
              "      <td>-0.121359</td>\n",
              "      <td>-2.261857</td>\n",
              "      <td>0.524980</td>\n",
              "      <td>0.247998</td>\n",
              "      <td>0.771679</td>\n",
              "      <td>0.909412</td>\n",
              "      <td>-0.689281</td>\n",
              "      <td>-0.327642</td>\n",
              "      <td>-0.139097</td>\n",
              "      <td>-0.055353</td>\n",
              "      <td>-0.059752</td>\n",
              "      <td>378.66</td>\n",
              "      <td>legitimate</td>\n",
              "    </tr>\n",
              "    <tr>\n",
              "      <th>3</th>\n",
              "      <td>1.0</td>\n",
              "      <td>-0.966272</td>\n",
              "      <td>-0.185226</td>\n",
              "      <td>1.792993</td>\n",
              "      <td>-0.863291</td>\n",
              "      <td>-0.010309</td>\n",
              "      <td>1.247203</td>\n",
              "      <td>0.237609</td>\n",
              "      <td>0.377436</td>\n",
              "      <td>-1.387024</td>\n",
              "      <td>-0.054952</td>\n",
              "      <td>-0.226487</td>\n",
              "      <td>0.178228</td>\n",
              "      <td>0.507757</td>\n",
              "      <td>-0.287924</td>\n",
              "      <td>-0.631418</td>\n",
              "      <td>-1.059647</td>\n",
              "      <td>-0.684093</td>\n",
              "      <td>1.965775</td>\n",
              "      <td>-1.232622</td>\n",
              "      <td>-0.208038</td>\n",
              "      <td>-0.108300</td>\n",
              "      <td>0.005274</td>\n",
              "      <td>-0.190321</td>\n",
              "      <td>-1.175575</td>\n",
              "      <td>0.647376</td>\n",
              "      <td>-0.221929</td>\n",
              "      <td>0.062723</td>\n",
              "      <td>0.061458</td>\n",
              "      <td>123.50</td>\n",
              "      <td>legitimate</td>\n",
              "    </tr>\n",
              "    <tr>\n",
              "      <th>4</th>\n",
              "      <td>2.0</td>\n",
              "      <td>-1.158233</td>\n",
              "      <td>0.877737</td>\n",
              "      <td>1.548718</td>\n",
              "      <td>0.403034</td>\n",
              "      <td>-0.407193</td>\n",
              "      <td>0.095921</td>\n",
              "      <td>0.592941</td>\n",
              "      <td>-0.270533</td>\n",
              "      <td>0.817739</td>\n",
              "      <td>0.753074</td>\n",
              "      <td>-0.822843</td>\n",
              "      <td>0.538196</td>\n",
              "      <td>1.345852</td>\n",
              "      <td>-1.119670</td>\n",
              "      <td>0.175121</td>\n",
              "      <td>-0.451449</td>\n",
              "      <td>-0.237033</td>\n",
              "      <td>-0.038195</td>\n",
              "      <td>0.803487</td>\n",
              "      <td>0.408542</td>\n",
              "      <td>-0.009431</td>\n",
              "      <td>0.798278</td>\n",
              "      <td>-0.137458</td>\n",
              "      <td>0.141267</td>\n",
              "      <td>-0.206010</td>\n",
              "      <td>0.502292</td>\n",
              "      <td>0.219422</td>\n",
              "      <td>0.215153</td>\n",
              "      <td>69.99</td>\n",
              "      <td>legitimate</td>\n",
              "    </tr>\n",
              "  </tbody>\n",
              "</table>\n",
              "</div>"
            ],
            "text/plain": [
              "   Time        V1        V2        V3  ...       V27       V28  Amount       Class\n",
              "0   0.0 -1.359807 -0.072781  2.536347  ...  0.133558 -0.021053  149.62  legitimate\n",
              "1   0.0  1.191857  0.266151  0.166480  ... -0.008983  0.014724    2.69  legitimate\n",
              "2   1.0 -1.358354 -1.340163  1.773209  ... -0.055353 -0.059752  378.66  legitimate\n",
              "3   1.0 -0.966272 -0.185226  1.792993  ...  0.062723  0.061458  123.50  legitimate\n",
              "4   2.0 -1.158233  0.877737  1.548718  ...  0.219422  0.215153   69.99  legitimate\n",
              "\n",
              "[5 rows x 31 columns]"
            ]
          },
          "metadata": {
            "tags": []
          },
          "execution_count": 8
        }
      ]
    },
    {
      "cell_type": "markdown",
      "metadata": {
        "id": "IT9WRwJg0Xz6"
      },
      "source": [
        "#### Subsetting the dataset, including only `Time`,`Amount`,`Class`"
      ]
    },
    {
      "cell_type": "code",
      "metadata": {
        "collapsed": true,
        "trusted": true,
        "_uuid": "d048b2193ba7d5784df565775946b4e7e5c5fa72",
        "id": "KcypwPkHxNji"
      },
      "source": [
        "#subsetting the dataset (selecting only required columns which are useful for analysis)\n",
        "credit_card_data_subset = credit_card_data[['Time','Amount','Class']]"
      ],
      "execution_count": 9,
      "outputs": []
    },
    {
      "cell_type": "markdown",
      "metadata": {
        "id": "9BvhfHq_0ole"
      },
      "source": [
        "#### Check the distribution of data (to check whether our subset of data contains same count as original dataset)"
      ]
    },
    {
      "cell_type": "code",
      "metadata": {
        "trusted": true,
        "_uuid": "24f4d374af612e09c1a4adda5874e60c87de9e33",
        "collapsed": true,
        "colab": {
          "base_uri": "https://localhost:8080/"
        },
        "id": "nqkXc98wxNji",
        "outputId": "7c6f011e-4677-47e1-c983-9c25ba067bac"
      },
      "source": [
        "#checking the distribution of data (to check whether our subset of data contains same count as original dataset)\n",
        "credit_card_data_subset['Class'].value_counts()"
      ],
      "execution_count": 10,
      "outputs": [
        {
          "output_type": "execute_result",
          "data": {
            "text/plain": [
              "legitimate    284315\n",
              "fraud            492\n",
              "Name: Class, dtype: int64"
            ]
          },
          "metadata": {
            "tags": []
          },
          "execution_count": 10
        }
      ]
    },
    {
      "cell_type": "markdown",
      "metadata": {
        "_uuid": "88efd980b8079d1becbc620d028745cc99c5f272",
        "id": "vHMiA6yuxNji"
      },
      "source": [
        "#### Performing EDA on this data (Pair plots to find out which features have more importance when compared to other features)\n"
      ]
    },
    {
      "cell_type": "code",
      "metadata": {
        "collapsed": true,
        "trusted": true,
        "_uuid": "c2bcd4be3fb590f489acc240a61a29c97bd41942",
        "id": "uB1-FvspxNji"
      },
      "source": [
        "import seaborn as sns\n",
        "import matplotlib.pyplot as plt"
      ],
      "execution_count": 11,
      "outputs": []
    },
    {
      "cell_type": "code",
      "metadata": {
        "collapsed": true,
        "trusted": true,
        "_uuid": "d7171c93aa8c10cfc5b643db6e9dc556d021d04c",
        "id": "c8G3Q4-axNjj"
      },
      "source": [
        "%matplotlib inline"
      ],
      "execution_count": 12,
      "outputs": []
    },
    {
      "cell_type": "code",
      "metadata": {
        "trusted": true,
        "_uuid": "789aff2d48101ea1f875427a470a2fbd9cbba525",
        "collapsed": true,
        "colab": {
          "base_uri": "https://localhost:8080/",
          "height": 518
        },
        "id": "ZmN2IGeKxNjm",
        "outputId": "228c2812-0422-4472-bc03-ebb376205d97"
      },
      "source": [
        "sns.FacetGrid(credit_card_data_subset,hue='Class',size = 5).map(sns.distplot,'Time').add_legend()\n",
        "plt.title(\"Histogram with PDF for feature 'time' \")"
      ],
      "execution_count": 13,
      "outputs": [
        {
          "output_type": "stream",
          "text": [
            "/usr/local/lib/python3.7/dist-packages/seaborn/axisgrid.py:316: UserWarning: The `size` parameter has been renamed to `height`; please update your code.\n",
            "  warnings.warn(msg, UserWarning)\n",
            "/usr/local/lib/python3.7/dist-packages/seaborn/distributions.py:2557: FutureWarning: `distplot` is a deprecated function and will be removed in a future version. Please adapt your code to use either `displot` (a figure-level function with similar flexibility) or `histplot` (an axes-level function for histograms).\n",
            "  warnings.warn(msg, FutureWarning)\n",
            "/usr/local/lib/python3.7/dist-packages/seaborn/distributions.py:2557: FutureWarning: `distplot` is a deprecated function and will be removed in a future version. Please adapt your code to use either `displot` (a figure-level function with similar flexibility) or `histplot` (an axes-level function for histograms).\n",
            "  warnings.warn(msg, FutureWarning)\n"
          ],
          "name": "stderr"
        },
        {
          "output_type": "execute_result",
          "data": {
            "text/plain": [
              "Text(0.5, 1.0, \"Histogram with PDF for feature 'time' \")"
            ]
          },
          "metadata": {
            "tags": []
          },
          "execution_count": 13
        },
        {
          "output_type": "display_data",
          "data": {
            "image/png": "[encoded data removed]",
            "text/plain": [
              "<Figure size 446.75x360 with 1 Axes>"
            ]
          },
          "metadata": {
            "tags": [],
            "needs_background": "light"
          }
        }
      ]
    },
    {
      "cell_type": "code",
      "metadata": {
        "trusted": true,
        "_uuid": "b691874fde245f7e787f5f2be9888b6cb6a819b1",
        "collapsed": true,
        "colab": {
          "base_uri": "https://localhost:8080/",
          "height": 745
        },
        "id": "3JyKGH9LxNjm",
        "outputId": "9354d669-0ea1-4f51-e410-701ae6a0770b"
      },
      "source": [
        "sns.FacetGrid(credit_card_data_subset,hue='Class',size=8).map(sns.distplot,'Amount').add_legend()\n",
        "plt.title(\"Histogram with PDF for feature 'Amount' \")"
      ],
      "execution_count": 38,
      "outputs": [
        {
          "output_type": "stream",
          "text": [
            "/usr/local/lib/python3.7/dist-packages/seaborn/axisgrid.py:316: UserWarning: The `size` parameter has been renamed to `height`; please update your code.\n",
            "  warnings.warn(msg, UserWarning)\n",
            "/usr/local/lib/python3.7/dist-packages/seaborn/distributions.py:2557: FutureWarning: `distplot` is a deprecated function and will be removed in a future version. Please adapt your code to use either `displot` (a figure-level function with similar flexibility) or `histplot` (an axes-level function for histograms).\n",
            "  warnings.warn(msg, FutureWarning)\n",
            "/usr/local/lib/python3.7/dist-packages/seaborn/distributions.py:2557: FutureWarning: `distplot` is a deprecated function and will be removed in a future version. Please adapt your code to use either `displot` (a figure-level function with similar flexibility) or `histplot` (an axes-level function for histograms).\n",
            "  warnings.warn(msg, FutureWarning)\n"
          ],
          "name": "stderr"
        },
        {
          "output_type": "execute_result",
          "data": {
            "text/plain": [
              "Text(0.5, 1.0, \"Histogram with PDF for feature 'Amount' \")"
            ]
          },
          "metadata": {
            "tags": []
          },
          "execution_count": 38
        },
        {
          "output_type": "display_data",
          "data": {
            "image/png": "[encoded data removed]",
            "text/plain": [
              "<Figure size 662.75x576 with 1 Axes>"
            ]
          },
          "metadata": {
            "tags": [],
            "needs_background": "light"
          }
        }
      ]
    },
    {
      "cell_type": "markdown",
      "metadata": {
        "_uuid": "8d221c42e472734dca2c6aeca3884dbb0f71da95",
        "id": "jziDH-LQxNjm"
      },
      "source": [
        "**Observation:**\n",
        "\n",
        "1.It is evident that the feature 'time' has so much of overlapping. We couldn't make any predictions or classifications out of it. So, we could discard this feature in classification of outcome.\n",
        "\n",
        "2.Whereas the feature 'Amount' has also overlapping but we could make some prediction out of it when compared to another feature. \n",
        "    \n",
        "\n",
        "    "
      ]
    },
    {
      "cell_type": "markdown",
      "metadata": {
        "id": "ACp4HMvu11mq"
      },
      "source": [
        "#### Let divide the data according to classes for appropriate analysis"
      ]
    },
    {
      "cell_type": "code",
      "metadata": {
        "collapsed": true,
        "trusted": true,
        "_uuid": "79658e59b760ade4e27d4615a9293803bb6e5682",
        "id": "PE6cxgirxNjn"
      },
      "source": [
        "#dividing the data according to classes for appropriate analysis\n",
        "credit_card_data_subset_class_fraud = credit_card_data_subset[credit_card_data_subset['Class'] == 'fraud']"
      ],
      "execution_count": 15,
      "outputs": []
    },
    {
      "cell_type": "code",
      "metadata": {
        "trusted": true,
        "_uuid": "9a6574d886bc213ca432edd69b1b4177996876dd",
        "collapsed": true,
        "colab": {
          "base_uri": "https://localhost:8080/"
        },
        "id": "WpuSNaOBxNjn",
        "outputId": "0877f1d9-f28e-40e8-a5a1-37fe2969f7d8"
      },
      "source": [
        "credit_card_data_subset_class_fraud.shape"
      ],
      "execution_count": 16,
      "outputs": [
        {
          "output_type": "execute_result",
          "data": {
            "text/plain": [
              "(492, 3)"
            ]
          },
          "metadata": {
            "tags": []
          },
          "execution_count": 16
        }
      ]
    },
    {
      "cell_type": "code",
      "metadata": {
        "trusted": true,
        "_uuid": "f442ec9738eedcaed5934fe4ce65bf69c641c7d5",
        "collapsed": true,
        "colab": {
          "base_uri": "https://localhost:8080/",
          "height": 197
        },
        "id": "NBnW6ePwxNjn",
        "outputId": "bf372947-78bc-4b9e-a3ad-96b5940f4823"
      },
      "source": [
        "credit_card_data_subset_class_fraud.head()"
      ],
      "execution_count": 17,
      "outputs": [
        {
          "output_type": "execute_result",
          "data": {
            "text/html": [
              "<div>\n",
              "<style scoped>\n",
              "    .dataframe tbody tr th:only-of-type {\n",
              "        vertical-align: middle;\n",
              "    }\n",
              "\n",
              "    .dataframe tbody tr th {\n",
              "        vertical-align: top;\n",
              "    }\n",
              "\n",
              "    .dataframe thead th {\n",
              "        text-align: right;\n",
              "    }\n",
              "</style>\n",
              "<table border=\"1\" class=\"dataframe\">\n",
              "  <thead>\n",
              "    <tr style=\"text-align: right;\">\n",
              "      <th></th>\n",
              "      <th>Time</th>\n",
              "      <th>Amount</th>\n",
              "      <th>Class</th>\n",
              "    </tr>\n",
              "  </thead>\n",
              "  <tbody>\n",
              "    <tr>\n",
              "      <th>541</th>\n",
              "      <td>406.0</td>\n",
              "      <td>0.00</td>\n",
              "      <td>fraud</td>\n",
              "    </tr>\n",
              "    <tr>\n",
              "      <th>623</th>\n",
              "      <td>472.0</td>\n",
              "      <td>529.00</td>\n",
              "      <td>fraud</td>\n",
              "    </tr>\n",
              "    <tr>\n",
              "      <th>4920</th>\n",
              "      <td>4462.0</td>\n",
              "      <td>239.93</td>\n",
              "      <td>fraud</td>\n",
              "    </tr>\n",
              "    <tr>\n",
              "      <th>6108</th>\n",
              "      <td>6986.0</td>\n",
              "      <td>59.00</td>\n",
              "      <td>fraud</td>\n",
              "    </tr>\n",
              "    <tr>\n",
              "      <th>6329</th>\n",
              "      <td>7519.0</td>\n",
              "      <td>1.00</td>\n",
              "      <td>fraud</td>\n",
              "    </tr>\n",
              "  </tbody>\n",
              "</table>\n",
              "</div>"
            ],
            "text/plain": [
              "        Time  Amount  Class\n",
              "541    406.0    0.00  fraud\n",
              "623    472.0  529.00  fraud\n",
              "4920  4462.0  239.93  fraud\n",
              "6108  6986.0   59.00  fraud\n",
              "6329  7519.0    1.00  fraud"
            ]
          },
          "metadata": {
            "tags": []
          },
          "execution_count": 17
        }
      ]
    },
    {
      "cell_type": "code",
      "metadata": {
        "collapsed": true,
        "trusted": true,
        "_uuid": "a131a51cf33971cd3ba568fa30153682314e785f",
        "id": "4fIRYiWFxNjn"
      },
      "source": [
        "credit_card_data_subset_class_legitimate = credit_card_data_subset[credit_card_data_subset['Class'] == 'legitimate']"
      ],
      "execution_count": 18,
      "outputs": []
    },
    {
      "cell_type": "code",
      "metadata": {
        "trusted": true,
        "_uuid": "04a5f969d362745ee9c0f443a0c5cbe802ef6702",
        "collapsed": true,
        "colab": {
          "base_uri": "https://localhost:8080/"
        },
        "id": "R1C5J6-txNjn",
        "outputId": "0c7fab36-0adc-4e79-b2a0-9e61be44edec"
      },
      "source": [
        "credit_card_data_subset_class_legitimate.shape"
      ],
      "execution_count": 19,
      "outputs": [
        {
          "output_type": "execute_result",
          "data": {
            "text/plain": [
              "(284315, 3)"
            ]
          },
          "metadata": {
            "tags": []
          },
          "execution_count": 19
        }
      ]
    },
    {
      "cell_type": "code",
      "metadata": {
        "trusted": true,
        "_uuid": "f07a7e1781c45e8ff5991696885f7477fd429108",
        "collapsed": true,
        "colab": {
          "base_uri": "https://localhost:8080/",
          "height": 197
        },
        "id": "HaKNo3-qxNjo",
        "outputId": "32d60238-120d-4e5b-864c-7745ac09115c"
      },
      "source": [
        "credit_card_data_subset_class_legitimate.head()"
      ],
      "execution_count": 20,
      "outputs": [
        {
          "output_type": "execute_result",
          "data": {
            "text/html": [
              "<div>\n",
              "<style scoped>\n",
              "    .dataframe tbody tr th:only-of-type {\n",
              "        vertical-align: middle;\n",
              "    }\n",
              "\n",
              "    .dataframe tbody tr th {\n",
              "        vertical-align: top;\n",
              "    }\n",
              "\n",
              "    .dataframe thead th {\n",
              "        text-align: right;\n",
              "    }\n",
              "</style>\n",
              "<table border=\"1\" class=\"dataframe\">\n",
              "  <thead>\n",
              "    <tr style=\"text-align: right;\">\n",
              "      <th></th>\n",
              "      <th>Time</th>\n",
              "      <th>Amount</th>\n",
              "      <th>Class</th>\n",
              "    </tr>\n",
              "  </thead>\n",
              "  <tbody>\n",
              "    <tr>\n",
              "      <th>0</th>\n",
              "      <td>0.0</td>\n",
              "      <td>149.62</td>\n",
              "      <td>legitimate</td>\n",
              "    </tr>\n",
              "    <tr>\n",
              "      <th>1</th>\n",
              "      <td>0.0</td>\n",
              "      <td>2.69</td>\n",
              "      <td>legitimate</td>\n",
              "    </tr>\n",
              "    <tr>\n",
              "      <th>2</th>\n",
              "      <td>1.0</td>\n",
              "      <td>378.66</td>\n",
              "      <td>legitimate</td>\n",
              "    </tr>\n",
              "    <tr>\n",
              "      <th>3</th>\n",
              "      <td>1.0</td>\n",
              "      <td>123.50</td>\n",
              "      <td>legitimate</td>\n",
              "    </tr>\n",
              "    <tr>\n",
              "      <th>4</th>\n",
              "      <td>2.0</td>\n",
              "      <td>69.99</td>\n",
              "      <td>legitimate</td>\n",
              "    </tr>\n",
              "  </tbody>\n",
              "</table>\n",
              "</div>"
            ],
            "text/plain": [
              "   Time  Amount       Class\n",
              "0   0.0  149.62  legitimate\n",
              "1   0.0    2.69  legitimate\n",
              "2   1.0  378.66  legitimate\n",
              "3   1.0  123.50  legitimate\n",
              "4   2.0   69.99  legitimate"
            ]
          },
          "metadata": {
            "tags": []
          },
          "execution_count": 20
        }
      ]
    },
    {
      "cell_type": "markdown",
      "metadata": {
        "_uuid": "9f804feca8fe0c061ae77a9e8f776e3c3f19a185",
        "id": "Cl_WkIuHxNjo"
      },
      "source": [
        "### Univariate Analysis on feature 'Amount'"
      ]
    },
    {
      "cell_type": "markdown",
      "metadata": {
        "_uuid": "b78edc894d959bf7acdef95de758b15951bd333f",
        "id": "oHztlyaNxNjo"
      },
      "source": [
        "### Plotting **CDF(Cumulative Distributive Function)** and **PDF(Probability Density Function)** to analyze more about the data"
      ]
    },
    {
      "cell_type": "code",
      "metadata": {
        "collapsed": true,
        "trusted": true,
        "_uuid": "e147dd3fe78a271084d80accd95075834c8462a0",
        "id": "kESqGBFQxNjo"
      },
      "source": [
        "import numpy as np"
      ],
      "execution_count": 21,
      "outputs": []
    },
    {
      "cell_type": "code",
      "metadata": {
        "trusted": true,
        "_uuid": "7ca68a57e3f5e9963aed73be25e78238cf5faf0c",
        "collapsed": true,
        "colab": {
          "base_uri": "https://localhost:8080/",
          "height": 312
        },
        "id": "seuiwYl0xNjo",
        "outputId": "f44f0717-82c5-40ff-cc47-39a7843721a9"
      },
      "source": [
        "count,bin_edges = np.histogram(credit_card_data_subset_class_legitimate['Amount'],bins = 20,density = True)\n",
        "PDF = count/sum(count)\n",
        "#print(\"PDF : \",PDF)\n",
        "#print(\"\\nbin edges : \" , bin_edges)\n",
        "#computing CDF with help of PDF \n",
        "CDF = np.cumsum(PDF)\n",
        "#plotting PDF,CDF\n",
        "plt.plot(bin_edges[1:],PDF,label = \"PDF ---- legitimate\")\n",
        "plt.plot(bin_edges[1:],CDF,label = \"CDF ---- legitimate\")\n",
        "\n",
        "count,bin_edges = np.histogram(credit_card_data_subset_class_fraud['Amount'],bins = 20,density = True)\n",
        "PDF = count/sum(count)\n",
        "#computing CDF with help of PDF \n",
        "CDF = np.cumsum(PDF)\n",
        "#plotting PDF,CDF\n",
        "plt.plot(bin_edges[1:],PDF,label = \"PDF ---- Fraud\")\n",
        "plt.plot(bin_edges[1:],CDF,label = \"CDF ---- Fraud\")\n",
        "\n",
        "plt.xlabel(\"Amount\")\n",
        "plt.ylabel(\"Probability\")\n",
        "plt.title(\"Plot of PDF and CDF for feature 'Amount' \")\n",
        "plt.legend()\n",
        "\n"
      ],
      "execution_count": 22,
      "outputs": [
        {
          "output_type": "execute_result",
          "data": {
            "text/plain": [
              "<matplotlib.legend.Legend at 0x7f4367854890>"
            ]
          },
          "metadata": {
            "tags": []
          },
          "execution_count": 22
        },
        {
          "output_type": "display_data",
          "data": {
            "image/png": "[encoded data removed]",
            "text/plain": [
              "<Figure size 432x288 with 1 Axes>"
            ]
          },
          "metadata": {
            "tags": [],
            "needs_background": "light"
          }
        }
      ]
    },
    {
      "cell_type": "markdown",
      "metadata": {
        "_uuid": "978e8edb421737795be2e518ff7fa9664bbe668f",
        "id": "gEt5WSSfxNjp"
      },
      "source": [
        "**Observation and Conclusion **\n",
        "\n",
        "1.From the above plot we can observe that there is slight overlap between CDF's of both classes\n",
        "\n",
        "2.But , we can make an observation that more than **95% of fraud transactions** have **purchase Amount below 2500** approximately.\n",
        "\n",
        "3.From that we can conclude that if the amount of purchase is below 2500 it is more likely to be a fraud transaction else can be classified as a legitimate "
      ]
    },
    {
      "cell_type": "markdown",
      "metadata": {
        "_uuid": "5df0f3eef0e91077da1880aede644af162ce79e8",
        "id": "9STLxIjnxNjp"
      },
      "source": [
        "### Box plot and whiskers"
      ]
    },
    {
      "cell_type": "code",
      "metadata": {
        "trusted": true,
        "_uuid": "e8e2c5467959ed5aeed565539063a9238caaec4c",
        "collapsed": true,
        "colab": {
          "base_uri": "https://localhost:8080/",
          "height": 296
        },
        "id": "Onv2yz3PxNjp",
        "outputId": "23cb2fea-7489-4304-e6f0-dd4360b99bde"
      },
      "source": [
        "sns.boxplot(data = credit_card_data_subset,x='Class',y='Amount')"
      ],
      "execution_count": 23,
      "outputs": [
        {
          "output_type": "execute_result",
          "data": {
            "text/plain": [
              "<matplotlib.axes._subplots.AxesSubplot at 0x7f436a211b50>"
            ]
          },
          "metadata": {
            "tags": []
          },
          "execution_count": 23
        },
        {
          "output_type": "display_data",
          "data": {
            "image/png": "[encoded data removed]",
            "text/plain": [
              "<Figure size 432x288 with 1 Axes>"
            ]
          },
          "metadata": {
            "tags": [],
            "needs_background": "light"
          }
        }
      ]
    },
    {
      "cell_type": "markdown",
      "metadata": {
        "_uuid": "f9b5c609cb667884b1da538b269152152489b540",
        "id": "9ge6uuTOxNjq"
      },
      "source": [
        "### Violin plot"
      ]
    },
    {
      "cell_type": "code",
      "metadata": {
        "trusted": true,
        "_uuid": "83323a23452f3fc06c93df4b712ba30b0434054a",
        "collapsed": true,
        "colab": {
          "base_uri": "https://localhost:8080/",
          "height": 296
        },
        "id": "79axMFpTxNjq",
        "outputId": "26b68a93-288e-4bdc-fdc9-575d4e495ea8"
      },
      "source": [
        "sns.violinplot(data= credit_card_data_subset,x='Class',y='Amount')"
      ],
      "execution_count": 24,
      "outputs": [
        {
          "output_type": "execute_result",
          "data": {
            "text/plain": [
              "<matplotlib.axes._subplots.AxesSubplot at 0x7f4367894dd0>"
            ]
          },
          "metadata": {
            "tags": []
          },
          "execution_count": 24
        },
        {
          "output_type": "display_data",
          "data": {
            "image/png": "[encoded data removed]",
            "text/plain": [
              "<Figure size 432x288 with 1 Axes>"
            ]
          },
          "metadata": {
            "tags": [],
            "needs_background": "light"
          }
        }
      ]
    },
    {
      "cell_type": "markdown",
      "metadata": {
        "_uuid": "831e1e42176d61c2ef509c046b1063176e6df1de",
        "id": "8PAzqjDkxNjq"
      },
      "source": [
        "**Observation:**\n",
        "    \n",
        "These both plots(Box plots as well as Violin plots) are difficult to analyze when compared to PDF and CDF as the data is imbalanced,huge dataset and also scale is not so clear."
      ]
    },
    {
      "cell_type": "markdown",
      "metadata": {
        "_uuid": "295586b667820c158e1be510cde2f3f888e7a0d7",
        "id": "m6dzoTjkxNjq"
      },
      "source": [
        "## Task 2 : Finding the least values of similarities \n",
        "Task 2: Sample (S) 100 transactions from whole data (D), for every transaction in S, print 10 transactions from D which have least values of 'similarity'\n",
        "\n"
      ]
    },
    {
      "cell_type": "code",
      "metadata": {
        "collapsed": true,
        "trusted": true,
        "_uuid": "2f57fbe58c5e138571417520151668b6e9fd2371",
        "id": "Dj5B7FWOxNjq"
      },
      "source": [
        "#creating a sample of 100 values from Data , \n",
        "#sample will not have 'Class' feature in it because for comparison we don't need 'Class' feature.\n",
        "credit_card_data_sample = credit_card_data[credit_card_data.columns[:-1]].sample(100)"
      ],
      "execution_count": 25,
      "outputs": []
    },
    {
      "cell_type": "code",
      "metadata": {
        "trusted": true,
        "_uuid": "06ab35c1cb52fdda8ac3e0ab9fc4f4dc1b813e88",
        "collapsed": true,
        "colab": {
          "base_uri": "https://localhost:8080/"
        },
        "id": "yjAUJ1W3xNjr",
        "outputId": "5a669725-8309-45df-9fd4-b1ed571b9a39"
      },
      "source": [
        "#indexes of all the samples (100 samples)\n",
        "credit_card_data_sample.index"
      ],
      "execution_count": 26,
      "outputs": [
        {
          "output_type": "execute_result",
          "data": {
            "text/plain": [
              "Int64Index([123571, 254941, 139442, 199517,  45038,  58508, 159277, 254083,\n",
              "             23967, 147204, 210141,  42042, 239770,  46038, 274291,  30564,\n",
              "             93068,  87391,  44951, 283043,  18877,  38463, 243203, 190758,\n",
              "            273986, 250029,  78052, 151834, 212908,  88669,   7840, 213891,\n",
              "             44442, 265440,  56593,  30716, 234789, 196175, 190177, 265503,\n",
              "             54361,  87481, 100536, 168229, 187896, 192878, 267131, 112733,\n",
              "            170151, 186402, 248482,  65780,  82224, 105189, 115202, 156050,\n",
              "            246043,  25035, 263960,  22599,  47133, 206305,  59269,  57694,\n",
              "            279764,  53933,  92036, 211164, 114571,  73227, 171639, 229389,\n",
              "             54202, 130705, 157799, 269945,  66046,  80387, 155971,  49320,\n",
              "            142462,  81266,  83622, 126724, 145955,  31579, 156562,  11115,\n",
              "            266300,  87755,  60116,  25739,  62895,   5520,  94687,  45318,\n",
              "            162746, 162233, 117665, 135203],\n",
              "           dtype='int64')"
            ]
          },
          "metadata": {
            "tags": []
          },
          "execution_count": 26
        }
      ]
    },
    {
      "cell_type": "code",
      "metadata": {
        "trusted": true,
        "_uuid": "0b972089b3091a40f675805c636a57f5b603a4ea",
        "collapsed": true,
        "colab": {
          "base_uri": "https://localhost:8080/",
          "height": 217
        },
        "id": "nZFJxHBlxNjr",
        "outputId": "80f2797f-3e68-44a0-aa63-01b8fea02ab3"
      },
      "source": [
        "credit_card_data_sample.head()"
      ],
      "execution_count": 27,
      "outputs": [
        {
          "output_type": "execute_result",
          "data": {
            "text/html": [
              "<div>\n",
              "<style scoped>\n",
              "    .dataframe tbody tr th:only-of-type {\n",
              "        vertical-align: middle;\n",
              "    }\n",
              "\n",
              "    .dataframe tbody tr th {\n",
              "        vertical-align: top;\n",
              "    }\n",
              "\n",
              "    .dataframe thead th {\n",
              "        text-align: right;\n",
              "    }\n",
              "</style>\n",
              "<table border=\"1\" class=\"dataframe\">\n",
              "  <thead>\n",
              "    <tr style=\"text-align: right;\">\n",
              "      <th></th>\n",
              "      <th>Time</th>\n",
              "      <th>V1</th>\n",
              "      <th>V2</th>\n",
              "      <th>V3</th>\n",
              "      <th>V4</th>\n",
              "      <th>V5</th>\n",
              "      <th>V6</th>\n",
              "      <th>V7</th>\n",
              "      <th>V8</th>\n",
              "      <th>V9</th>\n",
              "      <th>V10</th>\n",
              "      <th>V11</th>\n",
              "      <th>V12</th>\n",
              "      <th>V13</th>\n",
              "      <th>V14</th>\n",
              "      <th>V15</th>\n",
              "      <th>V16</th>\n",
              "      <th>V17</th>\n",
              "      <th>V18</th>\n",
              "      <th>V19</th>\n",
              "      <th>V20</th>\n",
              "      <th>V21</th>\n",
              "      <th>V22</th>\n",
              "      <th>V23</th>\n",
              "      <th>V24</th>\n",
              "      <th>V25</th>\n",
              "      <th>V26</th>\n",
              "      <th>V27</th>\n",
              "      <th>V28</th>\n",
              "      <th>Amount</th>\n",
              "    </tr>\n",
              "  </thead>\n",
              "  <tbody>\n",
              "    <tr>\n",
              "      <th>123571</th>\n",
              "      <td>76981.0</td>\n",
              "      <td>0.566334</td>\n",
              "      <td>-1.881824</td>\n",
              "      <td>-0.506725</td>\n",
              "      <td>-0.292965</td>\n",
              "      <td>-1.140761</td>\n",
              "      <td>-0.405476</td>\n",
              "      <td>0.199512</td>\n",
              "      <td>-0.212375</td>\n",
              "      <td>-1.018545</td>\n",
              "      <td>0.608109</td>\n",
              "      <td>0.591999</td>\n",
              "      <td>0.327256</td>\n",
              "      <td>-0.240840</td>\n",
              "      <td>0.380353</td>\n",
              "      <td>-0.617634</td>\n",
              "      <td>-1.427004</td>\n",
              "      <td>-0.020084</td>\n",
              "      <td>1.340087</td>\n",
              "      <td>-0.180460</td>\n",
              "      <td>0.357264</td>\n",
              "      <td>-0.167568</td>\n",
              "      <td>-0.895657</td>\n",
              "      <td>-0.426987</td>\n",
              "      <td>0.066987</td>\n",
              "      <td>0.277437</td>\n",
              "      <td>1.050979</td>\n",
              "      <td>-0.156113</td>\n",
              "      <td>0.057425</td>\n",
              "      <td>431.12</td>\n",
              "    </tr>\n",
              "    <tr>\n",
              "      <th>254941</th>\n",
              "      <td>156988.0</td>\n",
              "      <td>1.927585</td>\n",
              "      <td>-0.568117</td>\n",
              "      <td>-0.518389</td>\n",
              "      <td>0.117550</td>\n",
              "      <td>-0.560294</td>\n",
              "      <td>-0.179379</td>\n",
              "      <td>-0.637987</td>\n",
              "      <td>0.053049</td>\n",
              "      <td>0.834141</td>\n",
              "      <td>0.211380</td>\n",
              "      <td>0.485558</td>\n",
              "      <td>0.807787</td>\n",
              "      <td>0.247447</td>\n",
              "      <td>0.082993</td>\n",
              "      <td>0.206791</td>\n",
              "      <td>0.868284</td>\n",
              "      <td>-1.066631</td>\n",
              "      <td>0.707109</td>\n",
              "      <td>0.077729</td>\n",
              "      <td>-0.075769</td>\n",
              "      <td>0.221932</td>\n",
              "      <td>0.667807</td>\n",
              "      <td>0.086869</td>\n",
              "      <td>-0.435783</td>\n",
              "      <td>-0.329696</td>\n",
              "      <td>0.657461</td>\n",
              "      <td>-0.046814</td>\n",
              "      <td>-0.056572</td>\n",
              "      <td>45.50</td>\n",
              "    </tr>\n",
              "    <tr>\n",
              "      <th>139442</th>\n",
              "      <td>83158.0</td>\n",
              "      <td>1.256817</td>\n",
              "      <td>0.408161</td>\n",
              "      <td>0.321563</td>\n",
              "      <td>0.686329</td>\n",
              "      <td>-0.305714</td>\n",
              "      <td>-1.055741</td>\n",
              "      <td>0.137074</td>\n",
              "      <td>-0.245972</td>\n",
              "      <td>-0.079763</td>\n",
              "      <td>-0.304444</td>\n",
              "      <td>0.060478</td>\n",
              "      <td>0.629294</td>\n",
              "      <td>0.967188</td>\n",
              "      <td>-0.435022</td>\n",
              "      <td>1.012601</td>\n",
              "      <td>0.443701</td>\n",
              "      <td>-0.047564</td>\n",
              "      <td>-0.390200</td>\n",
              "      <td>-0.203484</td>\n",
              "      <td>-0.033258</td>\n",
              "      <td>-0.279067</td>\n",
              "      <td>-0.769177</td>\n",
              "      <td>0.120474</td>\n",
              "      <td>0.365666</td>\n",
              "      <td>0.241152</td>\n",
              "      <td>0.091918</td>\n",
              "      <td>-0.018227</td>\n",
              "      <td>0.032418</td>\n",
              "      <td>1.79</td>\n",
              "    </tr>\n",
              "    <tr>\n",
              "      <th>199517</th>\n",
              "      <td>133001.0</td>\n",
              "      <td>-0.003227</td>\n",
              "      <td>1.412486</td>\n",
              "      <td>0.769719</td>\n",
              "      <td>3.894248</td>\n",
              "      <td>1.922563</td>\n",
              "      <td>2.753763</td>\n",
              "      <td>0.603558</td>\n",
              "      <td>0.460625</td>\n",
              "      <td>-2.143806</td>\n",
              "      <td>1.906280</td>\n",
              "      <td>1.008317</td>\n",
              "      <td>0.124403</td>\n",
              "      <td>0.171107</td>\n",
              "      <td>0.359596</td>\n",
              "      <td>0.519491</td>\n",
              "      <td>-1.037357</td>\n",
              "      <td>0.594665</td>\n",
              "      <td>-1.141250</td>\n",
              "      <td>0.666059</td>\n",
              "      <td>0.308560</td>\n",
              "      <td>-0.141264</td>\n",
              "      <td>0.012490</td>\n",
              "      <td>0.127198</td>\n",
              "      <td>-0.775141</td>\n",
              "      <td>-1.143366</td>\n",
              "      <td>0.078432</td>\n",
              "      <td>0.353313</td>\n",
              "      <td>0.039648</td>\n",
              "      <td>5.76</td>\n",
              "    </tr>\n",
              "    <tr>\n",
              "      <th>45038</th>\n",
              "      <td>42181.0</td>\n",
              "      <td>-1.542045</td>\n",
              "      <td>-0.428519</td>\n",
              "      <td>1.933986</td>\n",
              "      <td>-0.709562</td>\n",
              "      <td>-0.398871</td>\n",
              "      <td>-0.648172</td>\n",
              "      <td>0.116459</td>\n",
              "      <td>0.141950</td>\n",
              "      <td>1.008929</td>\n",
              "      <td>-0.662764</td>\n",
              "      <td>-0.903066</td>\n",
              "      <td>0.579763</td>\n",
              "      <td>0.334273</td>\n",
              "      <td>-0.917169</td>\n",
              "      <td>-0.969136</td>\n",
              "      <td>0.117203</td>\n",
              "      <td>-0.212626</td>\n",
              "      <td>-0.627019</td>\n",
              "      <td>-0.302019</td>\n",
              "      <td>0.284509</td>\n",
              "      <td>-0.236481</td>\n",
              "      <td>-0.372544</td>\n",
              "      <td>0.192936</td>\n",
              "      <td>0.455488</td>\n",
              "      <td>0.128572</td>\n",
              "      <td>0.811491</td>\n",
              "      <td>0.295169</td>\n",
              "      <td>0.243501</td>\n",
              "      <td>117.00</td>\n",
              "    </tr>\n",
              "  </tbody>\n",
              "</table>\n",
              "</div>"
            ],
            "text/plain": [
              "            Time        V1        V2  ...       V27       V28  Amount\n",
              "123571   76981.0  0.566334 -1.881824  ... -0.156113  0.057425  431.12\n",
              "254941  156988.0  1.927585 -0.568117  ... -0.046814 -0.056572   45.50\n",
              "139442   83158.0  1.256817  0.408161  ... -0.018227  0.032418    1.79\n",
              "199517  133001.0 -0.003227  1.412486  ...  0.353313  0.039648    5.76\n",
              "45038    42181.0 -1.542045 -0.428519  ...  0.295169  0.243501  117.00\n",
              "\n",
              "[5 rows x 30 columns]"
            ]
          },
          "metadata": {
            "tags": []
          },
          "execution_count": 27
        }
      ]
    },
    {
      "cell_type": "code",
      "metadata": {
        "collapsed": true,
        "trusted": true,
        "_uuid": "01bfd2402fce003e0a762b3f1ae5b80b09780a0e",
        "id": "py_cplkNxNjr"
      },
      "source": [
        "#removing class for credit_card_data also.\n",
        "credit_card_data_without_label = credit_card_data[credit_card_data.columns[:-1]]"
      ],
      "execution_count": 28,
      "outputs": []
    },
    {
      "cell_type": "code",
      "metadata": {
        "trusted": true,
        "_uuid": "774a939f2ffe585414524607cbdfbeeba8bcb0a2",
        "collapsed": true,
        "colab": {
          "base_uri": "https://localhost:8080/"
        },
        "id": "B-heYxsMxNjr",
        "outputId": "b85fe3f7-47b3-4f5f-e026-b91e1def650d"
      },
      "source": [
        "credit_card_data_without_label.shape"
      ],
      "execution_count": 29,
      "outputs": [
        {
          "output_type": "execute_result",
          "data": {
            "text/plain": [
              "(284807, 30)"
            ]
          },
          "metadata": {
            "tags": []
          },
          "execution_count": 29
        }
      ]
    },
    {
      "cell_type": "markdown",
      "metadata": {
        "_uuid": "1449dc3ccec17fdd3cc3b467f2c9e1b8297076c4",
        "id": "u4gb_on8xNjr"
      },
      "source": [
        "#### Create a function called similarity to check for the similarity and return least 10 transactions:\n"
      ]
    },
    {
      "cell_type": "code",
      "metadata": {
        "collapsed": true,
        "trusted": true,
        "_uuid": "966dd6e4e112a52fe510169f5ff5baa2490eb0ca",
        "id": "Uwso9PGHxNjs"
      },
      "source": [
        "def similarity(sample, whole_data): \n",
        "    \"\"\"Returns a dataframe of top 10 least values of similarity\n",
        "    sample -- pass the one of the index of sample and\n",
        "    whole_data -- entire dataframe , as we have to compare each row in dataframe with sample.\"\"\"\n",
        "    index_value = []\n",
        "    Class = []\n",
        "    similarity_list = []\n",
        "    for i in whole_data.index:\n",
        "        similarity_value = np.arccos(np.dot(credit_card_data_sample.loc[sample],credit_card_data_without_label.loc[i])/(np.linalg.norm(credit_card_data_sample.loc[sample])*np.linalg.norm(credit_card_data_without_label.loc[i])))\n",
        "        similarity_list.append(similarity_value)\n",
        "        Class.append(credit_card_data['Class'][i])\n",
        "        index_value.append(i)\n",
        "    similarity_df = pd.DataFrame({'index_value':index_value,'similarity_value':similarity_list,'Class':Class})\n",
        "    print(f\"sample index value is {sample} \")\n",
        "    return similarity_df.sort_values('similarity_value').head(10)\n",
        "    \n",
        "    \n",
        "#sort_values -- will sort the dataframe based on the column given in the function of sort_values\n",
        "\n",
        "#np.dot -- built-in function of numpy, to calculate dot product between two vectors\n",
        "\n",
        "# .loc[] --- is used to return a row based on the value provided in the arguments (passing the index in that arguments)\n",
        "\n",
        "#linalg.norm -- calculates the magnitude of the vector\n",
        "#The length of the vector is referred to as the vector norm or the vector’s magnitude.\n",
        "#The length of a vector is a nonnegative number that describes the extent of the vector in space, \n",
        "#and is sometimes referred to as the vector’s magnitude or the norm.\n",
        "    "
      ],
      "execution_count": 30,
      "outputs": []
    },
    {
      "cell_type": "code",
      "metadata": {
        "trusted": false,
        "collapsed": true,
        "_uuid": "1bcc8ad75252f70c2aae29f6b150037aff4cebe7",
        "colab": {
          "base_uri": "https://localhost:8080/"
        },
        "id": "iiIZY3KrxNjs",
        "outputId": "c72a8ef3-2569-4cfa-9d3d-73fb2120ccfa"
      },
      "source": [
        "\n",
        "sample_index = int(input(\"Enter the one of the index value from your credit_card_data_sample : \"))"
      ],
      "execution_count": 35,
      "outputs": [
        {
          "output_type": "stream",
          "text": [
            "Enter the one of the index value from your credit_card_data_sample : 45038\n"
          ],
          "name": "stdout"
        }
      ]
    },
    {
      "cell_type": "code",
      "metadata": {
        "trusted": false,
        "collapsed": true,
        "_uuid": "2de498c80aa3e4dfddd79598efe355ec5cdb355f",
        "colab": {
          "base_uri": "https://localhost:8080/",
          "height": 365
        },
        "id": "Sk1rDV51xNjt",
        "outputId": "e4ca2df5-1479-4da2-a3b2-d2cc37790b51"
      },
      "source": [
        "similarity(sample_index,credit_card_data_without_label)  \n",
        "#credit_card_data_without_label -- is the whole dataframe without labels\n",
        "#sample_index is the value (one of the index value) from the samples.\n",
        "\n",
        " "
      ],
      "execution_count": 36,
      "outputs": [
        {
          "output_type": "stream",
          "text": [
            "sample index value is 45038 \n"
          ],
          "name": "stdout"
        },
        {
          "output_type": "execute_result",
          "data": {
            "text/html": [
              "<div>\n",
              "<style scoped>\n",
              "    .dataframe tbody tr th:only-of-type {\n",
              "        vertical-align: middle;\n",
              "    }\n",
              "\n",
              "    .dataframe tbody tr th {\n",
              "        vertical-align: top;\n",
              "    }\n",
              "\n",
              "    .dataframe thead th {\n",
              "        text-align: right;\n",
              "    }\n",
              "</style>\n",
              "<table border=\"1\" class=\"dataframe\">\n",
              "  <thead>\n",
              "    <tr style=\"text-align: right;\">\n",
              "      <th></th>\n",
              "      <th>index_value</th>\n",
              "      <th>similarity_value</th>\n",
              "      <th>Class</th>\n",
              "    </tr>\n",
              "  </thead>\n",
              "  <tbody>\n",
              "    <tr>\n",
              "      <th>45038</th>\n",
              "      <td>45038</td>\n",
              "      <td>1.490116e-08</td>\n",
              "      <td>legitimate</td>\n",
              "    </tr>\n",
              "    <tr>\n",
              "      <th>44364</th>\n",
              "      <td>44364</td>\n",
              "      <td>4.721632e-05</td>\n",
              "      <td>legitimate</td>\n",
              "    </tr>\n",
              "    <tr>\n",
              "      <th>101684</th>\n",
              "      <td>101684</td>\n",
              "      <td>5.830928e-05</td>\n",
              "      <td>legitimate</td>\n",
              "    </tr>\n",
              "    <tr>\n",
              "      <th>77377</th>\n",
              "      <td>77377</td>\n",
              "      <td>5.950391e-05</td>\n",
              "      <td>legitimate</td>\n",
              "    </tr>\n",
              "    <tr>\n",
              "      <th>139762</th>\n",
              "      <td>139762</td>\n",
              "      <td>6.526461e-05</td>\n",
              "      <td>legitimate</td>\n",
              "    </tr>\n",
              "    <tr>\n",
              "      <th>111553</th>\n",
              "      <td>111553</td>\n",
              "      <td>6.649599e-05</td>\n",
              "      <td>legitimate</td>\n",
              "    </tr>\n",
              "    <tr>\n",
              "      <th>241624</th>\n",
              "      <td>241624</td>\n",
              "      <td>6.753710e-05</td>\n",
              "      <td>legitimate</td>\n",
              "    </tr>\n",
              "    <tr>\n",
              "      <th>79932</th>\n",
              "      <td>79932</td>\n",
              "      <td>6.794514e-05</td>\n",
              "      <td>legitimate</td>\n",
              "    </tr>\n",
              "    <tr>\n",
              "      <th>109470</th>\n",
              "      <td>109470</td>\n",
              "      <td>6.986979e-05</td>\n",
              "      <td>legitimate</td>\n",
              "    </tr>\n",
              "    <tr>\n",
              "      <th>70098</th>\n",
              "      <td>70098</td>\n",
              "      <td>7.016971e-05</td>\n",
              "      <td>legitimate</td>\n",
              "    </tr>\n",
              "  </tbody>\n",
              "</table>\n",
              "</div>"
            ],
            "text/plain": [
              "        index_value  similarity_value       Class\n",
              "45038         45038      1.490116e-08  legitimate\n",
              "44364         44364      4.721632e-05  legitimate\n",
              "101684       101684      5.830928e-05  legitimate\n",
              "77377         77377      5.950391e-05  legitimate\n",
              "139762       139762      6.526461e-05  legitimate\n",
              "111553       111553      6.649599e-05  legitimate\n",
              "241624       241624      6.753710e-05  legitimate\n",
              "79932         79932      6.794514e-05  legitimate\n",
              "109470       109470      6.986979e-05  legitimate\n",
              "70098         70098      7.016971e-05  legitimate"
            ]
          },
          "metadata": {
            "tags": []
          },
          "execution_count": 36
        }
      ]
    }
  ]
}