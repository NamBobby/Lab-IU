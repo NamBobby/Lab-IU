{
  "nbformat": 4,
  "nbformat_minor": 0,
  "metadata": {
    "colab": {
      "name": "PPL-Lab6-Visitor Pattern.ipynb",
      "provenance": []
    },
    "kernelspec": {
      "name": "python3",
      "display_name": "Python 3"
    },
    "language_info": {
      "name": "python"
    }
  },
  "cells": [
    {
      "cell_type": "markdown",
      "source": [
        "# I.\tPreparation\n",
        "> ##  Exploring the following program implementing a situation using visitor pattern\n",
        "1. \tCreate a \"visitor\" base class w/ a visit() method for every \"element\" type. Class Visitor definition must be put in the order before class Element definition. So, why?"
      ],
      "metadata": {
        "id": "U0Zggep9Xegx"
      }
    },
    {
      "cell_type": "code",
      "execution_count": 3,
      "metadata": {
        "id": "A_XvSMoh3cF2"
      },
      "outputs": [],
      "source": [
        "class Visitor:\n",
        "  def visit(self, c):\n",
        "   raise NotImplementedError()"
      ]
    },
    {
      "cell_type": "markdown",
      "source": [
        "#  \n",
        "> ##  \n",
        "2. \t \t. Add an `accept(Visitor)` method to the `Element` hierarchy"
      ],
      "metadata": {
        "id": "AC-PDDXGYfF_"
      }
    },
    {
      "cell_type": "code",
      "source": [
        "class Element:\n",
        "  def accept(self, v: Visitor):\n",
        "    raise NotImplementedError()\n",
        "\n",
        "class Company(Element):\n",
        "  def __init__(self):\n",
        "    self.profit = [2, -1, 10, 3]\n",
        "  def accept(self, v: Visitor):\n",
        "    pass\n",
        "  def report(self):\n",
        "    return sum(self.profit)"
      ],
      "metadata": {
        "id": "AMo-_2Il81V_"
      },
      "execution_count": 4,
      "outputs": []
    },
    {
      "cell_type": "markdown",
      "source": [
        "#  \n",
        "> ##  \n",
        "3. \t \tDefine the `accept` method for class `Company`"
      ],
      "metadata": {
        "id": "PnyYy4-M9QbY"
      }
    },
    {
      "cell_type": "code",
      "source": [
        "def accept(self, v: Visitor):\n",
        "  v.visit(self)\n",
        "\n",
        "Company.accept = accept"
      ],
      "metadata": {
        "id": "rHL63IU99WWt"
      },
      "execution_count": 5,
      "outputs": []
    },
    {
      "cell_type": "markdown",
      "source": [
        "#  \n",
        "> ##  \n",
        "4. \t \tCreate a `visitor` derived class for each `operation` to do on `elements`"
      ],
      "metadata": {
        "id": "S7Gg_-3n92A2"
      }
    },
    {
      "cell_type": "code",
      "source": [
        "class TaxVisitor(Visitor):\n",
        "  def visit(self, e: Company):\n",
        "    k= e.report();\n",
        "    print(k, \"?\\n\")\n",
        "    print(\"What is real value of Quarter 3\\n\")\n",
        "\n",
        "class PRVisitor(Visitor):\n",
        "  def visit(self, e: Company):\n",
        "    k = e.report()\n",
        "    print(k, \"!!!\\n\")\n",
        "    e.report()\n",
        "    print(\"This company realy earns\", 2+0+5+3)"
      ],
      "metadata": {
        "id": "bMDgE7ec90Jd"
      },
      "execution_count": 6,
      "outputs": []
    },
    {
      "cell_type": "code",
      "source": [
        "if __name__ == '__main__':\n",
        "  c = Company()\n",
        "  t = TaxVisitor()\n",
        "  p = PRVisitor()\n",
        "  c.accept(t);\n",
        "  c.accept(p);"
      ],
      "metadata": {
        "id": "bEa_7pqe-UVH",
        "colab": {
          "base_uri": "https://localhost:8080/"
        },
        "outputId": "f7ad786e-6171-4e16-d521-ab5712badec0"
      },
      "execution_count": 7,
      "outputs": [
        {
          "output_type": "stream",
          "name": "stdout",
          "text": [
            "14 ?\n",
            "\n",
            "What is real value of Quarter 3\n",
            "\n",
            "14 !!!\n",
            "\n",
            "This company realy earns 10\n"
          ]
        }
      ]
    },
    {
      "cell_type": "markdown",
      "source": [
        "# II.\tPractice Exercises\n",
        "> ##  \n",
        "1. \tA building inspector may visit many different buildings. At each building, the inspector wants to know the progress, the amount paid and the remaining amount. Write a simple program that simulates the inspection process `I` to buildings `A` and `B`."
      ],
      "metadata": {
        "id": "m0bY8MH7Z7mi"
      }
    },
    {
      "cell_type": "code",
      "source": [
        "class CompanyAB:\n",
        "    def __init__(self):\n",
        "        self.balance=1000\n",
        "        self.process=100\n",
        "    \n",
        "    def proc(self):\n",
        "        pro = float(input(\"Process: \"))\n",
        "        if self.process>=pro:\n",
        "            print(\"Process:\", pro)\n",
        "        else:\n",
        "            print(\"\\ninvalid process\")\n",
        "    \n",
        "    def used(self):\n",
        "        amount = float(input(\"Amount: \"))\n",
        "        if self.balance>=amount:\n",
        "            self.balance-=amount\n",
        "            print(\"Used Mount:\", amount)\n",
        "        else:\n",
        "            print(\"\\nBankrupt\")\n",
        "            \n",
        "    def display(self):\n",
        "       print(\"\\nRemaining: \",self.balance)\n",
        "\n",
        "# creating an object of class\n",
        "A = Company()\n",
        "B = Company()\n",
        "# Calling functions with that class object\n",
        "print(\"Le Thanh Phuong Nam ITITWE19205\\n\")\n",
        "print(\"Company A process\")\n",
        "A.proc()\n",
        "A.used()\n",
        "A.display()\n",
        "print(\"Company B process\")\n",
        "B.proc()\n",
        "B.used()\n",
        "B.display()"
      ],
      "metadata": {
        "id": "eyGDquF1SDq8",
        "outputId": "f733b362-d153-47b5-c365-52884837bc79",
        "colab": {
          "base_uri": "https://localhost:8080/"
        }
      },
      "execution_count": 54,
      "outputs": [
        {
          "output_type": "stream",
          "name": "stdout",
          "text": [
            "Le Thanh Phuong Nam ITITWE19205\n",
            "\n",
            "Company A process\n",
            "Process: 20\n",
            "Process: 20.0\n",
            "Amount: 500\n",
            "Used Mount: 500.0\n",
            "\n",
            "Remaining:  500.0\n",
            "Company B process\n",
            "Process: 50\n",
            "Process: 50.0\n",
            "Amount: 100\n",
            "Used Mount: 100.0\n",
            "\n",
            "Remaining:  900.0\n"
          ]
        }
      ]
    },
    {
      "cell_type": "markdown",
      "source": [
        "#  \n",
        "> ##  \n",
        "2. \t \tAfter the inspector examines the buildings, he must report the results to two departments, the project management department and the finance department, on the results obtained. Write a program to simulate this."
      ],
      "metadata": {
        "id": "qNB_uDnDag68"
      }
    },
    {
      "cell_type": "code",
      "source": [
        "print(\"Project Management Department is getting result from staff Bobby\")\n",
        "print(\"Finance Department is getting result from staff Bobby\")\n",
        "print(\"Company A:\")\n",
        "A.display()\n",
        "print(\"Company B:\")\n",
        "B.display()"
      ],
      "metadata": {
        "id": "9ykak9R6_vvP",
        "colab": {
          "base_uri": "https://localhost:8080/"
        },
        "outputId": "811925c7-aa52-4b1d-a83b-302859365451"
      },
      "execution_count": 71,
      "outputs": [
        {
          "output_type": "stream",
          "name": "stdout",
          "text": [
            "Project Management Department is getting result from staff Bobby\n",
            "Finance Department is getting result from staff Bobby\n",
            "Company A:\n",
            "\n",
            "Remaining:  500.0\n",
            "Company B:\n",
            "\n",
            "Remaining:  900.0\n"
          ]
        }
      ]
    }
  ]
}