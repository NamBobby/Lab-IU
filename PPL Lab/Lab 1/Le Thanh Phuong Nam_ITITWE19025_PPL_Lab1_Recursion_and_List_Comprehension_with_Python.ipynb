{
  "nbformat": 4,
  "nbformat_minor": 0,
  "metadata": {
    "colab": {
      "name": "Le Thanh Phuong Nam_ITITWE19025_PPL_Lab1_Recursion_and_List_Comprehension_with_Python.ipynb",
      "provenance": []
    },
    "kernelspec": {
      "name": "python3",
      "display_name": "Python 3"
    },
    "language_info": {
      "name": "python"
    }
  },
  "cells": [
    {
      "cell_type": "markdown",
      "source": [
        "# I.\tIntroductory Exercises\n",
        "> ## Recursion\n",
        "1. \tUse recursive approach to write a function `lstSquare(n:Int)` that returns a list of the squares of the numbers from 1 to `n`?"
      ],
      "metadata": {
        "id": "U0Zggep9Xegx"
      }
    },
    {
      "cell_type": "markdown",
      "source": [
        "Le Thanh Phuong Nam ITITWE19025\n"
      ],
      "metadata": {
        "id": "czNHroNFESB0"
      }
    },
    {
      "cell_type": "code",
      "execution_count": null,
      "metadata": {
        "id": "eFNxcSRvXang",
        "colab": {
          "base_uri": "https://localhost:8080/"
        },
        "outputId": "826330e4-008d-471c-f733-bf41dd1801b6"
      },
      "outputs": [
        {
          "output_type": "stream",
          "name": "stdout",
          "text": [
            "Le Thanh Phuong Nam ITITWE19025\n"
          ]
        }
      ],
      "source": [
        "def lstSquare(n: int):\n",
        "    if n<=0:\n",
        "    \treturn []\n",
        "    else:\n",
        "        return lstSquare(n-1) + [n**2]\n",
        "\n",
        "lstSquare(5)\n",
        "print(\"Le Thanh Phuong Nam ITITWE19025\")"
      ]
    },
    {
      "cell_type": "markdown",
      "source": [
        "#  \n",
        "> ##  \n",
        "2. \t \tLet `lst` be a list of integer and `n` be any value, use recursive approach to write function `dist(lst,n)` that returns the list of pairs of an element of `lst` and `n`."
      ],
      "metadata": {
        "id": "AC-PDDXGYfF_"
      }
    },
    {
      "cell_type": "code",
      "source": [
        "def dist(lst: list, n: int):\n",
        "    if lst == []:\n",
        "        return []\n",
        "    return [(lst[0],n)]+dist(lst[1:],n)\n",
        "\n",
        "dist([1,2,3,5,9], 5)\n",
        "print(\"Le Thanh Phuong Nam ITITWE19025\")"
      ],
      "metadata": {
        "id": "rXK-fDYXZBxx",
        "colab": {
          "base_uri": "https://localhost:8080/"
        },
        "outputId": "5c3c279d-7b8d-4fdd-87d8-c54b5b952086"
      },
      "execution_count": null,
      "outputs": [
        {
          "output_type": "stream",
          "name": "stdout",
          "text": [
            "Le Thanh Phuong Nam ITITWE19025\n"
          ]
        }
      ]
    },
    {
      "cell_type": "markdown",
      "source": [
        "#  \n",
        "> ## List Comprehension\n",
        "3. \tUse list comprehension approach to write a function `lstSquare(n:Int)` that returns a list of the squares of the numbers from 1 to `n`?"
      ],
      "metadata": {
        "id": "mKMjKLF2Zg1v"
      }
    },
    {
      "cell_type": "code",
      "source": [
        "def crealst(n: int):\n",
        "    if n==0:\n",
        "       \treturn []\n",
        "    else:\n",
        " \t    return  crealst(n-1)+[n]\n",
        "\n",
        "def lstSquares(n: int):\n",
        "    return [x*x for x in  crealst(n)]\n",
        "\n",
        "lstSquares(5)\n",
        "print(\"Le Thanh Phuong Nam ITITWE19025\")"
      ],
      "metadata": {
        "id": "HmsagkfOZyEv",
        "colab": {
          "base_uri": "https://localhost:8080/"
        },
        "outputId": "b7280448-e6fc-47d1-c353-26e952feb1eb"
      },
      "execution_count": null,
      "outputs": [
        {
          "output_type": "stream",
          "name": "stdout",
          "text": [
            "Le Thanh Phuong Nam ITITWE19025\n"
          ]
        }
      ]
    },
    {
      "cell_type": "markdown",
      "source": [
        "# II.\tPractice Exercises\n",
        "> ##  \n",
        "1. \tUse recursion to create a function `fiboSeq(n)` which returns a list of `n` first Fibonacci numbers."
      ],
      "metadata": {
        "id": "m0bY8MH7Z7mi"
      }
    },
    {
      "cell_type": "code",
      "source": [
        "def fiboSeq(n):\n",
        "    if n < 0:\n",
        "        return []\n",
        "    elif n == 0:\n",
        "        return 0\n",
        "    elif n == 1 or n == 2:\n",
        "        return 1\n",
        "    else:\n",
        "        return fiboSeq(n-1) + fiboSeq(n-2)\n",
        "n=9\n",
        "[fiboSeq(i) for i in range(0,n+1)]\n",
        "print(\"Le Thanh Phuong Nam ITITWE19025\")"
      ],
      "metadata": {
        "id": "D-BvVjJpadSf",
        "colab": {
          "base_uri": "https://localhost:8080/"
        },
        "outputId": "7dc3cbc6-a762-4995-c53b-c59c4f18d1ac"
      },
      "execution_count": null,
      "outputs": [
        {
          "output_type": "stream",
          "name": "stdout",
          "text": [
            "Le Thanh Phuong Nam ITITWE19025\n"
          ]
        }
      ]
    },
    {
      "cell_type": "markdown",
      "source": [
        "#  \n",
        "> ##  \n",
        "2. \t \tUse recursion to create a search function on an ordered list. The signature of the function is given as `binarySearch(ordered_list, n)`."
      ],
      "metadata": {
        "id": "qNB_uDnDag68"
      }
    },
    {
      "cell_type": "code",
      "source": [
        "def binarySearch(arr, x):\n",
        "    l = 0 \n",
        "    r = len(arr)-1\n",
        "    while l <= r:\n",
        " \n",
        "        mid = l + (r - l) // 2\n",
        " \n",
        "        if arr[mid] == x:\n",
        "            return mid\n",
        " \n",
        "        elif arr[mid] < x:\n",
        "            l = mid + 1\n",
        " \n",
        "        else:\n",
        "            r = mid - 1\n",
        " \n",
        "    return -1\n",
        " \n",
        " \n",
        "arr = [2, 3, 4, 10, 40]\n",
        "x = 10\n",
        " \n",
        "result = binarySearch(arr,x)\n",
        " \n",
        "if result != -1:\n",
        "    print(\"Element is present at index % d\" % result)\n",
        "else:\n",
        "    print(\"Element is not present in array\")\n",
        "\n",
        "print(\"Le Thanh Phuong Nam ITITWE19025\")"
      ],
      "metadata": {
        "id": "1eg3tzC3ajJ5",
        "colab": {
          "base_uri": "https://localhost:8080/"
        },
        "outputId": "f5df6971-32db-45ad-b5e5-c126e84b9313"
      },
      "execution_count": null,
      "outputs": [
        {
          "output_type": "stream",
          "name": "stdout",
          "text": [
            "Element is present at index  3\n",
            "Le Thanh Phuong Nam ITITWE19025\n"
          ]
        }
      ]
    },
    {
      "cell_type": "markdown",
      "source": [
        "#  \n",
        "> ##  \n",
        "3. \t \tUse recursion to create a function `isPrime(n)` to check if `n` is a prime number."
      ],
      "metadata": {
        "id": "x-uazQ3cajjs"
      }
    },
    {
      "cell_type": "code",
      "source": [
        "def isPrime(n, div = None):\n",
        "    if div is None:\n",
        "        div = n - 1\n",
        "    while div >= 2:\n",
        "        if n % div == 0:\n",
        "            print(\"Number not prime\")\n",
        "            return False\n",
        "        else:\n",
        "            return isPrime(n, div-1)\n",
        "    else:\n",
        "        print(\"Number is prime\")\n",
        "        return 'True'\n",
        "\n",
        "print(isPrime(5))\n",
        "\n",
        "print(\"Le Thanh Phuong Nam ITITWE19025\")"
      ],
      "metadata": {
        "id": "aB4TxZ2oakou",
        "colab": {
          "base_uri": "https://localhost:8080/"
        },
        "outputId": "33966a47-44cc-4580-9168-e9938208a277"
      },
      "execution_count": 5,
      "outputs": [
        {
          "output_type": "stream",
          "name": "stdout",
          "text": [
            "Number is prime\n",
            "True\n",
            "Le Thanh Phuong Nam ITITWE19025\n"
          ]
        }
      ]
    },
    {
      "cell_type": "markdown",
      "source": [
        "#  \n",
        "> ##  \n",
        "4. \t \tUse list compression and recursion to create a list of first `n` prime numbers."
      ],
      "metadata": {
        "id": "gdo_mvloak8K"
      }
    },
    {
      "cell_type": "code",
      "source": [
        "from math import sqrt\n",
        "def primes(n):\n",
        "    if n == 0:\n",
        "        return []\n",
        "    elif n == 1:\n",
        "        return []\n",
        "    else:\n",
        "        p = primes(int(sqrt(n)))\n",
        "        no_p = {j for i in p for j in range(i*2, n+1, i)}\n",
        "        p = {x for x in range(2, n + 1) if x not in no_p}\n",
        "    return p\n",
        "\n",
        "print(primes(50))\n",
        "\n",
        "print(\"Le Thanh Phuong Nam ITITWE19025\")"
      ],
      "metadata": {
        "id": "1qekKmlWaliU",
        "colab": {
          "base_uri": "https://localhost:8080/"
        },
        "outputId": "0d9f790d-7664-4901-f1fd-ff496ab89b45"
      },
      "execution_count": null,
      "outputs": [
        {
          "output_type": "stream",
          "name": "stdout",
          "text": [
            "{2, 3, 5, 37, 7, 41, 11, 43, 13, 47, 17, 19, 23, 29, 31}\n",
            "Le Thanh Phuong Nam ITITWE19025\n"
          ]
        }
      ]
    },
    {
      "cell_type": "markdown",
      "source": [
        "#  \n",
        "> ##  \n",
        "5. \t \tGiven a list `lst` and a number `n`, please use list comprehension and recursion to create a list of booleans that reflects the present of each element of `lst` in the list of `n` first Fibonacci numbers."
      ],
      "metadata": {
        "id": "oyz2Hx-Xalsb"
      }
    },
    {
      "cell_type": "code",
      "source": [
        "import math\n",
        "lst = [1, 2 , 3 , 9, 22]\n",
        "fibo = []\n",
        "def isPerfectSquare(x):\n",
        "    s = int(math.sqrt(x))\n",
        "    return s*s == x\n",
        "def isFibonacci(n):\n",
        "    return isPerfectSquare(5*n*n + 4) or isPerfectSquare(5*n*n - 4)\n",
        "\n",
        "for i in lst:\n",
        "     if (isFibonacci(i) == True): \n",
        "         fibo.append(\"True\")\n",
        "     else:\n",
        "         fibo.append(\"False\")\n",
        "\n",
        "print(fibo)\n",
        "\n",
        "print(\"Le Thanh Phuong Nam ITITWE19025\")"
      ],
      "metadata": {
        "id": "inrmD2SMamOc",
        "colab": {
          "base_uri": "https://localhost:8080/"
        },
        "outputId": "aeb93e27-3a43-43ea-d24b-da5151149451"
      },
      "execution_count": 2,
      "outputs": [
        {
          "output_type": "stream",
          "name": "stdout",
          "text": [
            "['True', 'True', 'True', 'False', 'False']\n",
            "Le Thanh Phuong Nam ITITWE19025\n"
          ]
        }
      ]
    },
    {
      "cell_type": "markdown",
      "source": [
        "#  \n",
        "> ##  \n",
        "6. \t \tGiven a list `lst`, please use list comprehension and recursion to create a list that contains only elements of the list `lst` which are both primes and Fibonacci numbers. Ex. [1,3,6,7,8,13] → [3,13]"
      ],
      "metadata": {
        "id": "ZYMoZnC9anYi"
      }
    },
    {
      "cell_type": "code",
      "source": [
        "my_list= [1,4,67,89,13, 3]\n",
        "primefibo=[]\n",
        "\n",
        "def isPerfectSquare(x):\n",
        "    s = int(math.sqrt(x))\n",
        "    return s*s == x\n",
        "def isFibonacci(n):\n",
        "    return isPerfectSquare(5*n*n + 4) or isPerfectSquare(5*n*n - 4)\n",
        "\n",
        "def primecheck(my_list: list):\n",
        "    for i in my_list:\n",
        "        c=0\n",
        "    for j in range(1,i):\n",
        "        if i%j == 0:\n",
        "            c+=1\n",
        "    if c==1:\n",
        "        return True\n",
        "\n",
        "for i in my_list:\n",
        "     if (isFibonacci(i) == True ): \n",
        "         primefibo.append(i)\n",
        "\n",
        "\n",
        "print(primefibo)\n",
        "\n",
        "print(\"Le Thanh Phuong Nam ITITWE19025\")"
      ],
      "metadata": {
        "id": "J28gLllMan8s",
        "colab": {
          "base_uri": "https://localhost:8080/"
        },
        "outputId": "4706ba29-471a-4b8c-e894-3a6179dccfef"
      },
      "execution_count": null,
      "outputs": [
        {
          "output_type": "stream",
          "name": "stdout",
          "text": [
            "[1, 89, 13, 3]\n",
            "Le Thanh Phuong Nam ITITWE19025\n"
          ]
        }
      ]
    },
    {
      "cell_type": "code",
      "source": [
        ""
      ],
      "metadata": {
        "id": "smhdh2XM7NmR"
      },
      "execution_count": null,
      "outputs": []
    }
  ]
}