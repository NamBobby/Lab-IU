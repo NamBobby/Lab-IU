{
  "nbformat": 4,
  "nbformat_minor": 0,
  "metadata": {
    "colab": {
      "name": "PPL_Lab2_Higher_Order_Function_and_Lambda_Calculus_Lê Thanh Phương Nam_ITITWE19025.ipynb",
      "provenance": []
    },
    "kernelspec": {
      "name": "python3",
      "display_name": "Python 3"
    },
    "language_info": {
      "name": "python"
    }
  },
  "cells": [
    {
      "cell_type": "markdown",
      "source": [
        "Lê Thanh Phương Nam_ITITWe19025"
      ],
      "metadata": {
        "id": "Lqc9LrpY-STt"
      }
    },
    {
      "cell_type": "markdown",
      "source": [
        "# I.\tIntroductory Exercises\n",
        "> ##  \n",
        "1. \tRun the following code, observe the displayed result"
      ],
      "metadata": {
        "id": "U0Zggep9Xegx"
      }
    },
    {
      "cell_type": "code",
      "source": [
        "def add (x,y):\n",
        "\treturn x+y\n",
        " \n",
        "def inc(f,x):\n",
        "\treturn f(x,1)\n",
        "    \n",
        "print(\"Result: \",inc(add,2))\n",
        "\n",
        "print(\"Le Thanh Phuong Nam ITITWE19025\")"
      ],
      "metadata": {
        "id": "CgHGW3OQn-lM",
        "colab": {
          "base_uri": "https://localhost:8080/"
        },
        "outputId": "6a56995b-0d63-4296-ff57-1f5d3b1e72be"
      },
      "execution_count": 1,
      "outputs": [
        {
          "output_type": "stream",
          "name": "stdout",
          "text": [
            "Result:  3\n",
            "Le Thanh Phuong Nam ITITWE19025\n"
          ]
        }
      ]
    },
    {
      "cell_type": "markdown",
      "source": [
        "#  \n",
        "> ##  \n",
        "2. \t \tRewrite `inc(f,x)` using lambda calculus."
      ],
      "metadata": {
        "id": "AC-PDDXGYfF_"
      }
    },
    {
      "cell_type": "code",
      "source": [
        "def inc(f,x):\n",
        "    return (lambda x,y : x+y) (x,1)\n",
        "\n",
        "print(\"Le Thanh Phuong Nam ITITWE19025\")"
      ],
      "metadata": {
        "id": "rXK-fDYXZBxx",
        "colab": {
          "base_uri": "https://localhost:8080/"
        },
        "outputId": "b4af8fe9-927f-48ee-b756-88ee204d9fed"
      },
      "execution_count": 2,
      "outputs": [
        {
          "output_type": "stream",
          "name": "stdout",
          "text": [
            "Le Thanh Phuong Nam ITITWE19025\n"
          ]
        }
      ]
    },
    {
      "cell_type": "markdown",
      "source": [
        "#  \n",
        "> ##  \n",
        "3. \t \tDevelop the following functions using the similar manner.\n",
        "*   a) `add10(x)`\n",
        "*   b) `dec(f,x)`\n",
        "\n"
      ],
      "metadata": {
        "id": "Kr0G4UDVdcUg"
      }
    },
    {
      "cell_type": "code",
      "source": [
        "def add10(x):\n",
        "    return x+10\n",
        "\n",
        "def dec(f,x):\n",
        "    return (lambda x,y: x-y) (x,1)\n",
        "\n",
        "print(\"Le Thanh Phuong Nam ITITWE19025\")"
      ],
      "metadata": {
        "id": "qyWsrDdtelTW",
        "colab": {
          "base_uri": "https://localhost:8080/"
        },
        "outputId": "65bc9e64-ed87-4681-8ea8-0bc76fa41349"
      },
      "execution_count": 3,
      "outputs": [
        {
          "output_type": "stream",
          "name": "stdout",
          "text": [
            "Le Thanh Phuong Nam ITITWE19025\n"
          ]
        }
      ]
    },
    {
      "cell_type": "markdown",
      "source": [
        "#  \n",
        "> ##  \n",
        "4. \t \tRun the following code, observe the displayed result."
      ],
      "metadata": {
        "id": "caiYUjJzeud6"
      }
    },
    {
      "cell_type": "code",
      "source": [
        "def create_adder(x):\n",
        "  def adder(y):\n",
        "    return x + y\n",
        "  return adder\n",
        "  \n",
        "add_15 = create_adder(15)\n",
        "   \n",
        "print(\"Result: \",add_15(10))\n",
        "\n",
        "print(\"Le Thanh Phuong Nam ITITWE19025\")"
      ],
      "metadata": {
        "id": "aPQReSRsoDvJ",
        "colab": {
          "base_uri": "https://localhost:8080/"
        },
        "outputId": "49861e3b-0d1d-49e2-8b8b-fd08645d21da"
      },
      "execution_count": 4,
      "outputs": [
        {
          "output_type": "stream",
          "name": "stdout",
          "text": [
            "Result:  25\n",
            "Le Thanh Phuong Nam ITITWE19025\n"
          ]
        }
      ]
    },
    {
      "cell_type": "markdown",
      "source": [
        "#  \n",
        "> ##  \n",
        "5. \t \tRewrite `create_adder` using lambda"
      ],
      "metadata": {
        "id": "3kkNiGWAfzWC"
      }
    },
    {
      "cell_type": "code",
      "source": [
        "def create_adder2(y):\n",
        "    return lambda x : x + y\n",
        "\n",
        "add_151 = create_adder2(15)\n",
        "print(\"Result:\", add_151(10))\n",
        "print(\"Le Thanh Phuong Nam ITITWE19025\")"
      ],
      "metadata": {
        "id": "LS7Ql60cf4Sl",
        "colab": {
          "base_uri": "https://localhost:8080/"
        },
        "outputId": "f7dbaaa7-a130-4b83-974b-afc8b03dd4f7"
      },
      "execution_count": 5,
      "outputs": [
        {
          "output_type": "stream",
          "name": "stdout",
          "text": [
            "Result: 25\n",
            "Le Thanh Phuong Nam ITITWE19025\n"
          ]
        }
      ]
    },
    {
      "cell_type": "markdown",
      "source": [
        "#  \n",
        "> ##  \n",
        "6. \t \t\n",
        "*   a) Develop `create_lifter(x)` to return `x^y`\n",
        "*   b) Use `create_lifter` to develop `area(n)`, which returns the area of a square whose side length is `n`.\n",
        "\n"
      ],
      "metadata": {
        "id": "0j6oBuJFgGh5"
      }
    },
    {
      "cell_type": "code",
      "source": [
        "#a)\n",
        "print(\"6a)\")\n",
        "def create_lifter(y):\n",
        "    return lambda x : x**y\n",
        "lifter2 = create_lifter(2)\n",
        "print(\"Result x^y: \", lifter2(10))\n",
        "lifter4 = create_lifter(4)\n",
        "#b)\n",
        "print(\"6b)\")\n",
        "def shapeArea(n):\n",
        "    if n>=lifter4(10) or n<1:\n",
        "        return False\n",
        "    return (lifter2(n)+lifter2(n-1))\n",
        "print(\"Result area: \" ,shapeArea(10))\n",
        "\n",
        "print(\"Le Thanh Phuong Nam ITITWE19025\")"
      ],
      "metadata": {
        "colab": {
          "base_uri": "https://localhost:8080/"
        },
        "id": "LUFmT3HU8P3o",
        "outputId": "fd7f2f68-e5e3-4951-9031-c7a079d868b6"
      },
      "execution_count": 8,
      "outputs": [
        {
          "output_type": "stream",
          "name": "stdout",
          "text": [
            "6a)\n",
            "Result x^y:  100\n",
            "6b)\n",
            "Result area:  181\n",
            "Le Thanh Phuong Nam ITITWE19025\n"
          ]
        }
      ]
    },
    {
      "cell_type": "markdown",
      "source": [
        "#  \n",
        "> ## Using map\n",
        "7. \tRun the following code"
      ],
      "metadata": {
        "id": "mKMjKLF2Zg1v"
      }
    },
    {
      "cell_type": "code",
      "source": [
        "def f(x):\n",
        "\treturn x+1\n",
        " \n",
        "l = list(map(f,[2,3,4]))   \n",
        "print(l)\n",
        "\n",
        "print(\"Le Thanh Phuong Nam ITITWE19025\")"
      ],
      "metadata": {
        "id": "-QrwxyhgoG4M",
        "colab": {
          "base_uri": "https://localhost:8080/"
        },
        "outputId": "cea6f8c4-0800-4293-af7b-83fa756a5a59"
      },
      "execution_count": 9,
      "outputs": [
        {
          "output_type": "stream",
          "name": "stdout",
          "text": [
            "[3, 4, 5]\n",
            "Le Thanh Phuong Nam ITITWE19025\n"
          ]
        }
      ]
    },
    {
      "cell_type": "markdown",
      "source": [
        "#  \n",
        "> ##  \n",
        "8. \t \tRewrite Question 7 using lambda expression"
      ],
      "metadata": {
        "id": "SnXVLbpKlIkN"
      }
    },
    {
      "cell_type": "code",
      "source": [
        "def f1(l):\n",
        "    return list(map(lambda x: x + 1 , l))\n",
        "\n",
        "print(\"Result: \",f1([2,3,4]))\n",
        "\n",
        "print(\"Le Thanh Phuong Nam ITITWE19025\")"
      ],
      "metadata": {
        "id": "plU7Oz-FlEKk",
        "colab": {
          "base_uri": "https://localhost:8080/"
        },
        "outputId": "8d482a30-f03f-4e79-ae9f-36a7691dfab9"
      },
      "execution_count": 10,
      "outputs": [
        {
          "output_type": "stream",
          "name": "stdout",
          "text": [
            "Result:  [3, 4, 5]\n",
            "Le Thanh Phuong Nam ITITWE19025\n"
          ]
        }
      ]
    },
    {
      "cell_type": "markdown",
      "source": [
        "#  \n",
        "> ##  \n",
        "9. \t \tUse map and lambda to convert a list of numbers into the squared list."
      ],
      "metadata": {
        "id": "e3mAWD9mlUv9"
      }
    },
    {
      "cell_type": "code",
      "source": [
        "def f2(l):\n",
        "    return list(map(lambda x: x*x , l))\n",
        "\n",
        "print(\"Result: \",f2([2,3,4]))\n",
        "\n",
        "print(\"Le Thanh Phuong Nam ITITWE19025\")"
      ],
      "metadata": {
        "id": "25K2jrmTlV5F",
        "colab": {
          "base_uri": "https://localhost:8080/"
        },
        "outputId": "77dba010-df54-4414-97c5-d5c5dd81c13b"
      },
      "execution_count": 11,
      "outputs": [
        {
          "output_type": "stream",
          "name": "stdout",
          "text": [
            "Result:  [4, 9, 16]\n",
            "Le Thanh Phuong Nam ITITWE19025\n"
          ]
        }
      ]
    },
    {
      "cell_type": "markdown",
      "source": [
        "# II.\tAdditional Exercises\n",
        "> ##  \n",
        "1. \tUse map and lambda to create a list of booleans reflecting whether each element in a given list `lst` is positive or not."
      ],
      "metadata": {
        "id": "m0bY8MH7Z7mi"
      }
    },
    {
      "cell_type": "code",
      "source": [
        "def positiveor(l):\n",
        "    return list(map(lambda x: \"False\" if x<=0 else \"True\", l))\n",
        "\n",
        "print(\"Result: \" ,positiveor([-2,0,4]))\n",
        "\n",
        "print(\"Le Thanh Phuong Nam ITITWE19025\")"
      ],
      "metadata": {
        "id": "D-BvVjJpadSf",
        "colab": {
          "base_uri": "https://localhost:8080/"
        },
        "outputId": "33be7549-cac6-4cde-bd49-aa8f356299e4"
      },
      "execution_count": 12,
      "outputs": [
        {
          "output_type": "stream",
          "name": "stdout",
          "text": [
            "Result:  ['False', 'False', 'True']\n",
            "Le Thanh Phuong Nam ITITWE19025\n"
          ]
        }
      ]
    },
    {
      "cell_type": "markdown",
      "source": [
        "#  \n",
        "> ##  \n",
        "2. \t \tGiven a list of positive integers `lst` and a number `n`, please use map and lambda to create a matrix with shape `(len(lst) x n)` whose each row `i-th` has the `lst[i]-th` element equal 1 and otherwise equal 0."
      ],
      "metadata": {
        "id": "qNB_uDnDag68"
      }
    },
    {
      "cell_type": "code",
      "source": [
        "filterArray = lambda lst, n : list(map(lambda a:[1 if i < len(a) else 0 for i in range(len(lst))],[[ 1 for _ in range(lst[i])] for i, _ in enumerate(range(n))]))\n",
        "\n",
        "print(\"Result: \",filterArray([2, 6, 3,  9, 8], 5))\n",
        "\n",
        "print(\"Le Thanh Phuong Nam ITITWE19025\")"
      ],
      "metadata": {
        "id": "1eg3tzC3ajJ5",
        "colab": {
          "base_uri": "https://localhost:8080/"
        },
        "outputId": "cd018fae-b6dd-44ac-f191-e3197ac37ff1"
      },
      "execution_count": 13,
      "outputs": [
        {
          "output_type": "stream",
          "name": "stdout",
          "text": [
            "Result:  [[1, 1, 0, 0, 0], [1, 1, 1, 1, 1], [1, 1, 1, 0, 0], [1, 1, 1, 1, 1], [1, 1, 1, 1, 1]]\n",
            "Le Thanh Phuong Nam ITITWE19025\n"
          ]
        }
      ]
    },
    {
      "cell_type": "markdown",
      "source": [
        "#  \n",
        "> ##  \n",
        "3. \t \tUse map and lambda to calculate the sum of a given list and its reverse one by each element. Ex. [1,2,3] → [4,4,4], [2,6,3,9] → [11, 9, 9, 11]"
      ],
      "metadata": {
        "id": "x-uazQ3cajjs"
      }
    },
    {
      "cell_type": "code",
      "source": [
        "sumreverse = lambda arr : list(map(lambda i: i, [x + y for x , y in zip(arr, list(reversed(arr)))]))\n",
        "print(\"Result: \",sumreverse([1,2,3]))\n",
        "\n",
        "print(\"Le Thanh Phuong Nam ITITWE19025\")"
      ],
      "metadata": {
        "id": "aB4TxZ2oakou",
        "colab": {
          "base_uri": "https://localhost:8080/"
        },
        "outputId": "89315a71-ee1d-43c7-b74e-f359a05202dc"
      },
      "execution_count": 14,
      "outputs": [
        {
          "output_type": "stream",
          "name": "stdout",
          "text": [
            "Result:  [4, 4, 4]\n",
            "Le Thanh Phuong Nam ITITWE19025\n"
          ]
        }
      ]
    },
    {
      "cell_type": "code",
      "source": [
        ""
      ],
      "metadata": {
        "id": "42ROeKEwBjKF"
      },
      "execution_count": null,
      "outputs": []
    }
  ]
}