{
  "nbformat": 4,
  "nbformat_minor": 0,
  "metadata": {
    "colab": {
      "name": "Lab4_TMC_Lê Thanh Phương Nam_ITITWE19025_ex1.ipynb",
      "provenance": []
    },
    "kernelspec": {
      "name": "python3",
      "display_name": "Python 3"
    },
    "language_info": {
      "name": "python"
    }
  },
  "cells": [
    {
      "cell_type": "markdown",
      "metadata": {
        "id": "vY7rslTZVf2h"
      },
      "source": [
        "Lê Thanh Phương Nam_ITITWE19025"
      ]
    },
    {
      "cell_type": "code",
      "metadata": {
        "colab": {
          "base_uri": "https://localhost:8080/"
        },
        "id": "Jq-JJITXgcD5",
        "outputId": "568c099e-34b7-489c-88ad-eb3af182a158"
      },
      "source": [
        "# Import Libs and time\n",
        "import numpy\n",
        "import timeit\n",
        "\n",
        "eS = 1\n",
        "\n",
        "#define the function\n",
        "def func(x):\n",
        "    return -(x**2)+ 8*x - 12\n",
        "\n",
        "#define the 1st derivative function\n",
        "def func_d1(x):\n",
        "    return -2*x + 8\n",
        "\n",
        "#define the 2nd derivative function\n",
        "def func_d2(x):\n",
        "    return -2\n",
        "\n",
        "#define the findMax_Newton()\n",
        "def findMax_Newton():\n",
        "    # define initial x, error relative\n",
        "    eA = 100\n",
        "    xi = 2.5\n",
        "    i=0\n",
        "    #cal initial function, 1st derivative function, 2nd derivative function value\n",
        "    fx = func(xi)\n",
        "    fx_d1 = func_d1(xi)\n",
        "    fx_d2 = func_d2(xi)\n",
        "    while (eA >= eS):\n",
        "      print(\"%s%20s%20s%20s\"%(i, xi, fx, eA))\n",
        "      xi = xi - fx_d1/fx_d2\n",
        "      #cal relative error\n",
        "      eA = ((func(xi + 1)-fx)/(func(xi + 1)))*100\n",
        "      fx = func(xi)\n",
        "      fx_d1 = func_d1(xi)\n",
        "      fx_d2 = func_d2(xi)\n",
        "      #create counter\n",
        "      i += 1\n",
        "    return [i,xi, fx]\n",
        "\n",
        "starttime = timeit.default_timer()\n",
        "print(findMax_Newton())\n",
        "print(\"The runtime is : \", timeit.default_timer() - starttime, 'second.')"
      ],
      "execution_count": 50,
      "outputs": [
        {
          "output_type": "stream",
          "name": "stdout",
          "text": [
            "0                 2.5                1.75                 100\n",
            "1                 4.0                 4.0   41.66666666666667\n",
            "[2, 4.0, 4.0]\n",
            "The runtime is :  0.0013648439999087714 second.\n"
          ]
        }
      ]
    },
    {
      "cell_type": "markdown",
      "metadata": {
        "id": "urfdwYNKVnZG"
      },
      "source": [
        "Maximum number of iterations : 2 with xi = 4 , f(xi) = 4\n",
        "\n",
        "The runtime is :  0.0013648439999087714 second"
      ]
    },
    {
      "cell_type": "code",
      "metadata": {
        "id": "njd59VKBWN-o"
      },
      "source": [
        ""
      ],
      "execution_count": null,
      "outputs": []
    }
  ]
}